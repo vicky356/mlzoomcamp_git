{
 "cells": [
  {
   "cell_type": "code",
   "execution_count": 596,
   "id": "c9a7e8a9",
   "metadata": {},
   "outputs": [],
   "source": [
    "import pandas as pd\n",
    "import numpy as np\n",
    "import seaborn as sns\n",
    "import matplotlib.pyplot as plt\n",
    "\n",
    "from sklearn.model_selection import train_test_split\n",
    "from sklearn.metrics import mutual_info_score"
   ]
  },
  {
   "cell_type": "code",
   "execution_count": 597,
   "id": "9b8e389c",
   "metadata": {},
   "outputs": [
    {
     "data": {
      "text/html": [
       "<div>\n",
       "<style scoped>\n",
       "    .dataframe tbody tr th:only-of-type {\n",
       "        vertical-align: middle;\n",
       "    }\n",
       "\n",
       "    .dataframe tbody tr th {\n",
       "        vertical-align: top;\n",
       "    }\n",
       "\n",
       "    .dataframe thead th {\n",
       "        text-align: right;\n",
       "    }\n",
       "</style>\n",
       "<table border=\"1\" class=\"dataframe\">\n",
       "  <thead>\n",
       "    <tr style=\"text-align: right;\">\n",
       "      <th></th>\n",
       "      <th>Make</th>\n",
       "      <th>Model</th>\n",
       "      <th>Year</th>\n",
       "      <th>Engine Fuel Type</th>\n",
       "      <th>Engine HP</th>\n",
       "      <th>Engine Cylinders</th>\n",
       "      <th>Transmission Type</th>\n",
       "      <th>Driven_Wheels</th>\n",
       "      <th>Number of Doors</th>\n",
       "      <th>Market Category</th>\n",
       "      <th>Vehicle Size</th>\n",
       "      <th>Vehicle Style</th>\n",
       "      <th>highway MPG</th>\n",
       "      <th>city mpg</th>\n",
       "      <th>Popularity</th>\n",
       "      <th>MSRP</th>\n",
       "    </tr>\n",
       "  </thead>\n",
       "  <tbody>\n",
       "    <tr>\n",
       "      <th>0</th>\n",
       "      <td>BMW</td>\n",
       "      <td>1 Series M</td>\n",
       "      <td>2011</td>\n",
       "      <td>premium unleaded (required)</td>\n",
       "      <td>335.0</td>\n",
       "      <td>6.0</td>\n",
       "      <td>MANUAL</td>\n",
       "      <td>rear wheel drive</td>\n",
       "      <td>2.0</td>\n",
       "      <td>Factory Tuner,Luxury,High-Performance</td>\n",
       "      <td>Compact</td>\n",
       "      <td>Coupe</td>\n",
       "      <td>26</td>\n",
       "      <td>19</td>\n",
       "      <td>3916</td>\n",
       "      <td>46135</td>\n",
       "    </tr>\n",
       "    <tr>\n",
       "      <th>1</th>\n",
       "      <td>BMW</td>\n",
       "      <td>1 Series</td>\n",
       "      <td>2011</td>\n",
       "      <td>premium unleaded (required)</td>\n",
       "      <td>300.0</td>\n",
       "      <td>6.0</td>\n",
       "      <td>MANUAL</td>\n",
       "      <td>rear wheel drive</td>\n",
       "      <td>2.0</td>\n",
       "      <td>Luxury,Performance</td>\n",
       "      <td>Compact</td>\n",
       "      <td>Convertible</td>\n",
       "      <td>28</td>\n",
       "      <td>19</td>\n",
       "      <td>3916</td>\n",
       "      <td>40650</td>\n",
       "    </tr>\n",
       "    <tr>\n",
       "      <th>2</th>\n",
       "      <td>BMW</td>\n",
       "      <td>1 Series</td>\n",
       "      <td>2011</td>\n",
       "      <td>premium unleaded (required)</td>\n",
       "      <td>300.0</td>\n",
       "      <td>6.0</td>\n",
       "      <td>MANUAL</td>\n",
       "      <td>rear wheel drive</td>\n",
       "      <td>2.0</td>\n",
       "      <td>Luxury,High-Performance</td>\n",
       "      <td>Compact</td>\n",
       "      <td>Coupe</td>\n",
       "      <td>28</td>\n",
       "      <td>20</td>\n",
       "      <td>3916</td>\n",
       "      <td>36350</td>\n",
       "    </tr>\n",
       "    <tr>\n",
       "      <th>3</th>\n",
       "      <td>BMW</td>\n",
       "      <td>1 Series</td>\n",
       "      <td>2011</td>\n",
       "      <td>premium unleaded (required)</td>\n",
       "      <td>230.0</td>\n",
       "      <td>6.0</td>\n",
       "      <td>MANUAL</td>\n",
       "      <td>rear wheel drive</td>\n",
       "      <td>2.0</td>\n",
       "      <td>Luxury,Performance</td>\n",
       "      <td>Compact</td>\n",
       "      <td>Coupe</td>\n",
       "      <td>28</td>\n",
       "      <td>18</td>\n",
       "      <td>3916</td>\n",
       "      <td>29450</td>\n",
       "    </tr>\n",
       "    <tr>\n",
       "      <th>4</th>\n",
       "      <td>BMW</td>\n",
       "      <td>1 Series</td>\n",
       "      <td>2011</td>\n",
       "      <td>premium unleaded (required)</td>\n",
       "      <td>230.0</td>\n",
       "      <td>6.0</td>\n",
       "      <td>MANUAL</td>\n",
       "      <td>rear wheel drive</td>\n",
       "      <td>2.0</td>\n",
       "      <td>Luxury</td>\n",
       "      <td>Compact</td>\n",
       "      <td>Convertible</td>\n",
       "      <td>28</td>\n",
       "      <td>18</td>\n",
       "      <td>3916</td>\n",
       "      <td>34500</td>\n",
       "    </tr>\n",
       "  </tbody>\n",
       "</table>\n",
       "</div>"
      ],
      "text/plain": [
       "  Make       Model  Year             Engine Fuel Type  Engine HP  \\\n",
       "0  BMW  1 Series M  2011  premium unleaded (required)      335.0   \n",
       "1  BMW    1 Series  2011  premium unleaded (required)      300.0   \n",
       "2  BMW    1 Series  2011  premium unleaded (required)      300.0   \n",
       "3  BMW    1 Series  2011  premium unleaded (required)      230.0   \n",
       "4  BMW    1 Series  2011  premium unleaded (required)      230.0   \n",
       "\n",
       "   Engine Cylinders Transmission Type     Driven_Wheels  Number of Doors  \\\n",
       "0               6.0            MANUAL  rear wheel drive              2.0   \n",
       "1               6.0            MANUAL  rear wheel drive              2.0   \n",
       "2               6.0            MANUAL  rear wheel drive              2.0   \n",
       "3               6.0            MANUAL  rear wheel drive              2.0   \n",
       "4               6.0            MANUAL  rear wheel drive              2.0   \n",
       "\n",
       "                         Market Category Vehicle Size Vehicle Style  \\\n",
       "0  Factory Tuner,Luxury,High-Performance      Compact         Coupe   \n",
       "1                     Luxury,Performance      Compact   Convertible   \n",
       "2                Luxury,High-Performance      Compact         Coupe   \n",
       "3                     Luxury,Performance      Compact         Coupe   \n",
       "4                                 Luxury      Compact   Convertible   \n",
       "\n",
       "   highway MPG  city mpg  Popularity   MSRP  \n",
       "0           26        19        3916  46135  \n",
       "1           28        19        3916  40650  \n",
       "2           28        20        3916  36350  \n",
       "3           28        18        3916  29450  \n",
       "4           28        18        3916  34500  "
      ]
     },
     "execution_count": 597,
     "metadata": {},
     "output_type": "execute_result"
    }
   ],
   "source": [
    "df = pd.read_csv('data.csv')\n",
    "df.head()"
   ]
  },
  {
   "cell_type": "markdown",
   "id": "d2d739ef",
   "metadata": {},
   "source": [
    "#### Features to be used"
   ]
  },
  {
   "cell_type": "code",
   "execution_count": 598,
   "id": "6ce47e58",
   "metadata": {},
   "outputs": [
    {
     "data": {
      "text/plain": [
       "['Make',\n",
       " 'Model',\n",
       " 'Year',\n",
       " 'Engine HP',\n",
       " 'Engine Cylinders',\n",
       " 'Transmission Type',\n",
       " 'Vehicle Style',\n",
       " 'highway MPG',\n",
       " 'city mpg',\n",
       " 'MSRP']"
      ]
     },
     "execution_count": 598,
     "metadata": {},
     "output_type": "execute_result"
    }
   ],
   "source": [
    "features = ['Make',\n",
    "'Model',\n",
    "'Year',\n",
    "'Engine HP',\n",
    "'Engine Cylinders',\n",
    "'Transmission Type',\n",
    "'Vehicle Style',\n",
    "'highway MPG',\n",
    "'city mpg',\n",
    "'MSRP']\n",
    "\n",
    "features"
   ]
  },
  {
   "cell_type": "markdown",
   "id": "7e9dc012",
   "metadata": {},
   "source": [
    "#### Data Preparation:\n",
    "- Select only features from above and transform thier names as follows\n",
    "    - data.columns = data.columns.str.replace(' ', '_').str.lower()\n",
    "- Fill in the missing values of the selected features with 0\n",
    "- Rename MSRP variable to price"
   ]
  },
  {
   "cell_type": "code",
   "execution_count": 599,
   "id": "ac337e01",
   "metadata": {},
   "outputs": [
    {
     "data": {
      "text/html": [
       "<div>\n",
       "<style scoped>\n",
       "    .dataframe tbody tr th:only-of-type {\n",
       "        vertical-align: middle;\n",
       "    }\n",
       "\n",
       "    .dataframe tbody tr th {\n",
       "        vertical-align: top;\n",
       "    }\n",
       "\n",
       "    .dataframe thead th {\n",
       "        text-align: right;\n",
       "    }\n",
       "</style>\n",
       "<table border=\"1\" class=\"dataframe\">\n",
       "  <thead>\n",
       "    <tr style=\"text-align: right;\">\n",
       "      <th></th>\n",
       "      <th>Make</th>\n",
       "      <th>Model</th>\n",
       "      <th>Year</th>\n",
       "      <th>Engine HP</th>\n",
       "      <th>Engine Cylinders</th>\n",
       "      <th>Transmission Type</th>\n",
       "      <th>Vehicle Style</th>\n",
       "      <th>highway MPG</th>\n",
       "      <th>city mpg</th>\n",
       "      <th>MSRP</th>\n",
       "    </tr>\n",
       "  </thead>\n",
       "  <tbody>\n",
       "    <tr>\n",
       "      <th>0</th>\n",
       "      <td>BMW</td>\n",
       "      <td>1 Series M</td>\n",
       "      <td>2011</td>\n",
       "      <td>335.0</td>\n",
       "      <td>6.0</td>\n",
       "      <td>MANUAL</td>\n",
       "      <td>Coupe</td>\n",
       "      <td>26</td>\n",
       "      <td>19</td>\n",
       "      <td>46135</td>\n",
       "    </tr>\n",
       "    <tr>\n",
       "      <th>1</th>\n",
       "      <td>BMW</td>\n",
       "      <td>1 Series</td>\n",
       "      <td>2011</td>\n",
       "      <td>300.0</td>\n",
       "      <td>6.0</td>\n",
       "      <td>MANUAL</td>\n",
       "      <td>Convertible</td>\n",
       "      <td>28</td>\n",
       "      <td>19</td>\n",
       "      <td>40650</td>\n",
       "    </tr>\n",
       "    <tr>\n",
       "      <th>2</th>\n",
       "      <td>BMW</td>\n",
       "      <td>1 Series</td>\n",
       "      <td>2011</td>\n",
       "      <td>300.0</td>\n",
       "      <td>6.0</td>\n",
       "      <td>MANUAL</td>\n",
       "      <td>Coupe</td>\n",
       "      <td>28</td>\n",
       "      <td>20</td>\n",
       "      <td>36350</td>\n",
       "    </tr>\n",
       "    <tr>\n",
       "      <th>3</th>\n",
       "      <td>BMW</td>\n",
       "      <td>1 Series</td>\n",
       "      <td>2011</td>\n",
       "      <td>230.0</td>\n",
       "      <td>6.0</td>\n",
       "      <td>MANUAL</td>\n",
       "      <td>Coupe</td>\n",
       "      <td>28</td>\n",
       "      <td>18</td>\n",
       "      <td>29450</td>\n",
       "    </tr>\n",
       "    <tr>\n",
       "      <th>4</th>\n",
       "      <td>BMW</td>\n",
       "      <td>1 Series</td>\n",
       "      <td>2011</td>\n",
       "      <td>230.0</td>\n",
       "      <td>6.0</td>\n",
       "      <td>MANUAL</td>\n",
       "      <td>Convertible</td>\n",
       "      <td>28</td>\n",
       "      <td>18</td>\n",
       "      <td>34500</td>\n",
       "    </tr>\n",
       "  </tbody>\n",
       "</table>\n",
       "</div>"
      ],
      "text/plain": [
       "  Make       Model  Year  Engine HP  Engine Cylinders Transmission Type  \\\n",
       "0  BMW  1 Series M  2011      335.0               6.0            MANUAL   \n",
       "1  BMW    1 Series  2011      300.0               6.0            MANUAL   \n",
       "2  BMW    1 Series  2011      300.0               6.0            MANUAL   \n",
       "3  BMW    1 Series  2011      230.0               6.0            MANUAL   \n",
       "4  BMW    1 Series  2011      230.0               6.0            MANUAL   \n",
       "\n",
       "  Vehicle Style  highway MPG  city mpg   MSRP  \n",
       "0         Coupe           26        19  46135  \n",
       "1   Convertible           28        19  40650  \n",
       "2         Coupe           28        20  36350  \n",
       "3         Coupe           28        18  29450  \n",
       "4   Convertible           28        18  34500  "
      ]
     },
     "execution_count": 599,
     "metadata": {},
     "output_type": "execute_result"
    }
   ],
   "source": [
    "df_new = df[features]\n",
    "df_new.head()"
   ]
  },
  {
   "cell_type": "code",
   "execution_count": 600,
   "id": "c8d8a5b2",
   "metadata": {},
   "outputs": [],
   "source": [
    "# Fill spaces with underscore and change to lowercase only\n",
    "df_new.columns = df_new.columns.str.replace(' ', '_').str.lower()"
   ]
  },
  {
   "cell_type": "code",
   "execution_count": 601,
   "id": "23109200",
   "metadata": {},
   "outputs": [
    {
     "data": {
      "text/plain": [
       "make                  0\n",
       "model                 0\n",
       "year                  0\n",
       "engine_hp            69\n",
       "engine_cylinders     30\n",
       "transmission_type     0\n",
       "vehicle_style         0\n",
       "highway_mpg           0\n",
       "city_mpg              0\n",
       "msrp                  0\n",
       "dtype: int64"
      ]
     },
     "execution_count": 601,
     "metadata": {},
     "output_type": "execute_result"
    }
   ],
   "source": [
    "# Check missing values\n",
    "df_new.isnull().sum()"
   ]
  },
  {
   "cell_type": "code",
   "execution_count": 602,
   "id": "b7fd3fad",
   "metadata": {},
   "outputs": [
    {
     "data": {
      "text/plain": [
       "make                 0\n",
       "model                0\n",
       "year                 0\n",
       "engine_hp            0\n",
       "engine_cylinders     0\n",
       "transmission_type    0\n",
       "vehicle_style        0\n",
       "highway_mpg          0\n",
       "city_mpg             0\n",
       "msrp                 0\n",
       "dtype: int64"
      ]
     },
     "execution_count": 602,
     "metadata": {},
     "output_type": "execute_result"
    }
   ],
   "source": [
    "# Fill and check missing values\n",
    "df_new = df_new.fillna(0)\n",
    "df_new.isnull().sum()"
   ]
  },
  {
   "cell_type": "code",
   "execution_count": 603,
   "id": "a0a2aa84",
   "metadata": {},
   "outputs": [],
   "source": [
    "# rename msrp\n",
    "df_new.rename(columns={'msrp':'price'}, inplace=True)"
   ]
  },
  {
   "cell_type": "markdown",
   "id": "ae0bfbfc",
   "metadata": {},
   "source": [
    "## Question 1: \n",
    "- What is the most frequent observation (mode) for the column 'transmission_type'?"
   ]
  },
  {
   "cell_type": "code",
   "execution_count": 604,
   "id": "a1ffebf1",
   "metadata": {},
   "outputs": [
    {
     "data": {
      "text/plain": [
       "0    AUTOMATIC\n",
       "Name: transmission_type, dtype: object"
      ]
     },
     "execution_count": 604,
     "metadata": {},
     "output_type": "execute_result"
    }
   ],
   "source": [
    "df_new.transmission_type.mode()"
   ]
  },
  {
   "cell_type": "code",
   "execution_count": 605,
   "id": "6bf7699d",
   "metadata": {},
   "outputs": [
    {
     "data": {
      "text/plain": [
       "count         11914\n",
       "unique            5\n",
       "top       AUTOMATIC\n",
       "freq           8266\n",
       "Name: transmission_type, dtype: object"
      ]
     },
     "execution_count": 605,
     "metadata": {},
     "output_type": "execute_result"
    }
   ],
   "source": [
    "df_new.transmission_type.describe()"
   ]
  },
  {
   "cell_type": "markdown",
   "id": "510a64c6",
   "metadata": {},
   "source": [
    "## Question 2:\n",
    "- Create the correlation matrix for the numerical features of your dataset. In a correlation matrix, you compute the correlation coefficient between every pair of features in the dataset."
   ]
  },
  {
   "cell_type": "code",
   "execution_count": 606,
   "id": "a87401b8",
   "metadata": {},
   "outputs": [
    {
     "data": {
      "text/plain": [
       "make                  object\n",
       "model                 object\n",
       "year                   int64\n",
       "engine_hp            float64\n",
       "engine_cylinders     float64\n",
       "transmission_type     object\n",
       "vehicle_style         object\n",
       "highway_mpg            int64\n",
       "city_mpg               int64\n",
       "price                  int64\n",
       "dtype: object"
      ]
     },
     "execution_count": 606,
     "metadata": {},
     "output_type": "execute_result"
    }
   ],
   "source": [
    "df_new.dtypes"
   ]
  },
  {
   "cell_type": "code",
   "execution_count": 607,
   "id": "059ef948",
   "metadata": {},
   "outputs": [],
   "source": [
    "# Select numerical types\n",
    "numerical = ['year', 'engine_hp', 'engine_cylinders', 'highway_mpg', 'city_mpg']"
   ]
  },
  {
   "cell_type": "code",
   "execution_count": 608,
   "id": "f3c66d46",
   "metadata": {},
   "outputs": [
    {
     "data": {
      "text/html": [
       "<div>\n",
       "<style scoped>\n",
       "    .dataframe tbody tr th:only-of-type {\n",
       "        vertical-align: middle;\n",
       "    }\n",
       "\n",
       "    .dataframe tbody tr th {\n",
       "        vertical-align: top;\n",
       "    }\n",
       "\n",
       "    .dataframe thead th {\n",
       "        text-align: right;\n",
       "    }\n",
       "</style>\n",
       "<table border=\"1\" class=\"dataframe\">\n",
       "  <thead>\n",
       "    <tr style=\"text-align: right;\">\n",
       "      <th></th>\n",
       "      <th>correlation</th>\n",
       "    </tr>\n",
       "  </thead>\n",
       "  <tbody>\n",
       "    <tr>\n",
       "      <th>year</th>\n",
       "      <td>0.227590</td>\n",
       "    </tr>\n",
       "    <tr>\n",
       "      <th>engine_hp</th>\n",
       "      <td>0.650095</td>\n",
       "    </tr>\n",
       "    <tr>\n",
       "      <th>engine_cylinders</th>\n",
       "      <td>0.526274</td>\n",
       "    </tr>\n",
       "    <tr>\n",
       "      <th>highway_mpg</th>\n",
       "      <td>-0.160043</td>\n",
       "    </tr>\n",
       "    <tr>\n",
       "      <th>city_mpg</th>\n",
       "      <td>-0.157676</td>\n",
       "    </tr>\n",
       "  </tbody>\n",
       "</table>\n",
       "</div>"
      ],
      "text/plain": [
       "                  correlation\n",
       "year                 0.227590\n",
       "engine_hp            0.650095\n",
       "engine_cylinders     0.526274\n",
       "highway_mpg         -0.160043\n",
       "city_mpg            -0.157676"
      ]
     },
     "execution_count": 608,
     "metadata": {},
     "output_type": "execute_result"
    }
   ],
   "source": [
    "# Correlation between price and numerical variables\n",
    "df_new[numerical].corrwith(df_new.price).to_frame('correlation')"
   ]
  },
  {
   "cell_type": "code",
   "execution_count": 609,
   "id": "332cf39b",
   "metadata": {},
   "outputs": [
    {
     "name": "stdout",
     "output_type": "stream",
     "text": [
      "Correlation between Numerical values and year\n",
      "                  correlation\n",
      "year                 1.000000\n",
      "engine_hp            0.338714\n",
      "engine_cylinders    -0.040708\n",
      "highway_mpg          0.258240\n",
      "city_mpg             0.198171\n",
      "\n",
      "Correlation between Numerical values and engine_hp\n",
      "                  correlation\n",
      "year                 0.338714\n",
      "engine_hp            1.000000\n",
      "engine_cylinders     0.774851\n",
      "highway_mpg         -0.415707\n",
      "city_mpg            -0.424918\n",
      "\n",
      "Correlation between Numerical values and engine_cylinders\n",
      "                  correlation\n",
      "year                -0.040708\n",
      "engine_hp            0.774851\n",
      "engine_cylinders     1.000000\n",
      "highway_mpg         -0.614541\n",
      "city_mpg            -0.587306\n",
      "\n",
      "Correlation between Numerical values and highway_mpg\n",
      "                  correlation\n",
      "year                 0.258240\n",
      "engine_hp           -0.415707\n",
      "engine_cylinders    -0.614541\n",
      "highway_mpg          1.000000\n",
      "city_mpg             0.886829\n",
      "\n",
      "Correlation between Numerical values and city_mpg\n",
      "                  correlation\n",
      "year                 0.198171\n",
      "engine_hp           -0.424918\n",
      "engine_cylinders    -0.587306\n",
      "highway_mpg          0.886829\n",
      "city_mpg             1.000000\n",
      "\n"
     ]
    }
   ],
   "source": [
    "# Correlation between numerical variables\n",
    "for i in numerical:\n",
    "    print(\"Correlation between Numerical values and {0}\".format(i))\n",
    "    print(df_new[numerical].corrwith(df_new[i]).to_frame('correlation'))\n",
    "    print()"
   ]
  },
  {
   "cell_type": "markdown",
   "id": "55796e34",
   "metadata": {},
   "source": [
    "#### Make price binary using\n",
    "- Now we need to turn the price variable from numeric into a binary format.\n",
    "- Let's create a variable above_average which is 1 if the price is above its mean value and 0 otherwise."
   ]
  },
  {
   "cell_type": "code",
   "execution_count": 610,
   "id": "9a875b82",
   "metadata": {},
   "outputs": [],
   "source": [
    "mean_price = df_new.price.mean()"
   ]
  },
  {
   "cell_type": "code",
   "execution_count": 611,
   "id": "df0303c4",
   "metadata": {},
   "outputs": [
    {
     "data": {
      "text/html": [
       "<div>\n",
       "<style scoped>\n",
       "    .dataframe tbody tr th:only-of-type {\n",
       "        vertical-align: middle;\n",
       "    }\n",
       "\n",
       "    .dataframe tbody tr th {\n",
       "        vertical-align: top;\n",
       "    }\n",
       "\n",
       "    .dataframe thead th {\n",
       "        text-align: right;\n",
       "    }\n",
       "</style>\n",
       "<table border=\"1\" class=\"dataframe\">\n",
       "  <thead>\n",
       "    <tr style=\"text-align: right;\">\n",
       "      <th></th>\n",
       "      <th>make</th>\n",
       "      <th>model</th>\n",
       "      <th>year</th>\n",
       "      <th>engine_hp</th>\n",
       "      <th>engine_cylinders</th>\n",
       "      <th>transmission_type</th>\n",
       "      <th>vehicle_style</th>\n",
       "      <th>highway_mpg</th>\n",
       "      <th>city_mpg</th>\n",
       "      <th>price</th>\n",
       "      <th>above_average</th>\n",
       "    </tr>\n",
       "  </thead>\n",
       "  <tbody>\n",
       "    <tr>\n",
       "      <th>0</th>\n",
       "      <td>BMW</td>\n",
       "      <td>1 Series M</td>\n",
       "      <td>2011</td>\n",
       "      <td>335.0</td>\n",
       "      <td>6.0</td>\n",
       "      <td>MANUAL</td>\n",
       "      <td>Coupe</td>\n",
       "      <td>26</td>\n",
       "      <td>19</td>\n",
       "      <td>46135</td>\n",
       "      <td>1</td>\n",
       "    </tr>\n",
       "    <tr>\n",
       "      <th>1</th>\n",
       "      <td>BMW</td>\n",
       "      <td>1 Series</td>\n",
       "      <td>2011</td>\n",
       "      <td>300.0</td>\n",
       "      <td>6.0</td>\n",
       "      <td>MANUAL</td>\n",
       "      <td>Convertible</td>\n",
       "      <td>28</td>\n",
       "      <td>19</td>\n",
       "      <td>40650</td>\n",
       "      <td>1</td>\n",
       "    </tr>\n",
       "    <tr>\n",
       "      <th>2</th>\n",
       "      <td>BMW</td>\n",
       "      <td>1 Series</td>\n",
       "      <td>2011</td>\n",
       "      <td>300.0</td>\n",
       "      <td>6.0</td>\n",
       "      <td>MANUAL</td>\n",
       "      <td>Coupe</td>\n",
       "      <td>28</td>\n",
       "      <td>20</td>\n",
       "      <td>36350</td>\n",
       "      <td>0</td>\n",
       "    </tr>\n",
       "    <tr>\n",
       "      <th>3</th>\n",
       "      <td>BMW</td>\n",
       "      <td>1 Series</td>\n",
       "      <td>2011</td>\n",
       "      <td>230.0</td>\n",
       "      <td>6.0</td>\n",
       "      <td>MANUAL</td>\n",
       "      <td>Coupe</td>\n",
       "      <td>28</td>\n",
       "      <td>18</td>\n",
       "      <td>29450</td>\n",
       "      <td>0</td>\n",
       "    </tr>\n",
       "    <tr>\n",
       "      <th>4</th>\n",
       "      <td>BMW</td>\n",
       "      <td>1 Series</td>\n",
       "      <td>2011</td>\n",
       "      <td>230.0</td>\n",
       "      <td>6.0</td>\n",
       "      <td>MANUAL</td>\n",
       "      <td>Convertible</td>\n",
       "      <td>28</td>\n",
       "      <td>18</td>\n",
       "      <td>34500</td>\n",
       "      <td>0</td>\n",
       "    </tr>\n",
       "  </tbody>\n",
       "</table>\n",
       "</div>"
      ],
      "text/plain": [
       "  make       model  year  engine_hp  engine_cylinders transmission_type  \\\n",
       "0  BMW  1 Series M  2011      335.0               6.0            MANUAL   \n",
       "1  BMW    1 Series  2011      300.0               6.0            MANUAL   \n",
       "2  BMW    1 Series  2011      300.0               6.0            MANUAL   \n",
       "3  BMW    1 Series  2011      230.0               6.0            MANUAL   \n",
       "4  BMW    1 Series  2011      230.0               6.0            MANUAL   \n",
       "\n",
       "  vehicle_style  highway_mpg  city_mpg  price  above_average  \n",
       "0         Coupe           26        19  46135              1  \n",
       "1   Convertible           28        19  40650              1  \n",
       "2         Coupe           28        20  36350              0  \n",
       "3         Coupe           28        18  29450              0  \n",
       "4   Convertible           28        18  34500              0  "
      ]
     },
     "execution_count": 611,
     "metadata": {},
     "output_type": "execute_result"
    }
   ],
   "source": [
    "df_new['above_average'] = (df_new.price > mean_price).astype(int)\n",
    "df_new.head()"
   ]
  },
  {
   "cell_type": "markdown",
   "id": "e153979c",
   "metadata": {},
   "source": [
    "#### Split the data\n",
    "- Split your data in train/val/test sets with 60%/20%/20% distribution.\n",
    "- Use Scikit-Learn for that (the train_test_split function) and set the seed to 42.\n",
    "- Make sure that the target value (price) is not in your dataframe."
   ]
  },
  {
   "cell_type": "code",
   "execution_count": 612,
   "id": "a93bd5fd",
   "metadata": {},
   "outputs": [],
   "source": [
    "# using 'from sklearn.model_selection import train_test_split'\n",
    "df_train_full, df_test = train_test_split(df_new, test_size=0.2, random_state=42) "
   ]
  },
  {
   "cell_type": "code",
   "execution_count": 613,
   "id": "60a20b9a",
   "metadata": {},
   "outputs": [],
   "source": [
    "df_train, df_val = train_test_split(df_train_full, test_size=0.25, random_state=42)"
   ]
  },
  {
   "cell_type": "code",
   "execution_count": 614,
   "id": "6eba73a3",
   "metadata": {},
   "outputs": [
    {
     "data": {
      "text/plain": [
       "(7148, 2383, 2383)"
      ]
     },
     "execution_count": 614,
     "metadata": {},
     "output_type": "execute_result"
    }
   ],
   "source": [
    "len(df_train), len(df_val), len(df_test)"
   ]
  },
  {
   "cell_type": "code",
   "execution_count": 615,
   "id": "0d9d387d",
   "metadata": {},
   "outputs": [
    {
     "data": {
      "text/plain": [
       "(11914, 11)"
      ]
     },
     "execution_count": 615,
     "metadata": {},
     "output_type": "execute_result"
    }
   ],
   "source": [
    "df_new.shape"
   ]
  },
  {
   "cell_type": "code",
   "execution_count": 616,
   "id": "3338658b",
   "metadata": {},
   "outputs": [],
   "source": [
    "# shuffle indices\n",
    "df_train = df_train.reset_index(drop=True)\n",
    "df_val = df_val.reset_index(drop=True)\n",
    "df_test = df_test.reset_index(drop=True)"
   ]
  },
  {
   "cell_type": "code",
   "execution_count": 617,
   "id": "29eb5cec",
   "metadata": {},
   "outputs": [],
   "source": [
    "# Set our target variables (price/above_average in this case?)\n",
    "y_train = df_train.above_average.values\n",
    "y_val = df_val.above_average.values\n",
    "y_test = df_test.above_average.values"
   ]
  },
  {
   "cell_type": "code",
   "execution_count": 618,
   "id": "df0afa9a",
   "metadata": {},
   "outputs": [],
   "source": [
    "del df_train_full['price']\n",
    "del df_train['price']\n",
    "del df_test['price']"
   ]
  },
  {
   "cell_type": "markdown",
   "id": "01b8c13e",
   "metadata": {},
   "source": [
    "## Question 3\n",
    "- Calculate the mutual information score between above_average and other categorical variables in our dataset. Use the training set only.\n",
    "- Round the scores to 2 decimals using round(score, 2)."
   ]
  },
  {
   "cell_type": "code",
   "execution_count": 619,
   "id": "8bbb6753",
   "metadata": {},
   "outputs": [
    {
     "data": {
      "text/plain": [
       "Index(['make', 'model', 'year', 'engine_hp', 'engine_cylinders',\n",
       "       'transmission_type', 'vehicle_style', 'highway_mpg', 'city_mpg',\n",
       "       'above_average'],\n",
       "      dtype='object')"
      ]
     },
     "execution_count": 619,
     "metadata": {},
     "output_type": "execute_result"
    }
   ],
   "source": [
    "df_train_full.columns"
   ]
  },
  {
   "cell_type": "code",
   "execution_count": 620,
   "id": "e3b9124c",
   "metadata": {},
   "outputs": [
    {
     "data": {
      "text/plain": [
       "make                  object\n",
       "model                 object\n",
       "year                   int64\n",
       "engine_hp            float64\n",
       "engine_cylinders     float64\n",
       "transmission_type     object\n",
       "vehicle_style         object\n",
       "highway_mpg            int64\n",
       "city_mpg               int64\n",
       "above_average          int32\n",
       "dtype: object"
      ]
     },
     "execution_count": 620,
     "metadata": {},
     "output_type": "execute_result"
    }
   ],
   "source": [
    "df_train_full.dtypes"
   ]
  },
  {
   "cell_type": "code",
   "execution_count": 621,
   "id": "e2dd2405",
   "metadata": {},
   "outputs": [],
   "source": [
    "categorical = ['make', 'model', 'transmission_type', 'vehicle_style']"
   ]
  },
  {
   "cell_type": "code",
   "execution_count": 622,
   "id": "8439b874",
   "metadata": {},
   "outputs": [
    {
     "data": {
      "text/plain": [
       "0.2387236479073192"
      ]
     },
     "execution_count": 622,
     "metadata": {},
     "output_type": "execute_result"
    }
   ],
   "source": [
    "# using 'from sklearn.metrics import mutual_info_score'\n",
    "mutual_info_score(df_train_full.above_average, df_train_full.make)"
   ]
  },
  {
   "cell_type": "code",
   "execution_count": 623,
   "id": "36097d99",
   "metadata": {},
   "outputs": [
    {
     "name": "stdout",
     "output_type": "stream",
     "text": [
      "make 0.2387236479073192\n",
      "model 0.46099440756035703\n",
      "transmission_type 0.020883575914971142\n",
      "vehicle_style 0.08339022741593435\n"
     ]
    }
   ],
   "source": [
    "# Check mutual information score with the other features\n",
    "for feature in categorical:\n",
    "    print(feature, mutual_info_score(df_train_full.above_average, df_train_full[feature]))"
   ]
  },
  {
   "cell_type": "markdown",
   "id": "fad1bb89",
   "metadata": {},
   "source": [
    "##### Alternate method for viewing the MI as a dataframe"
   ]
  },
  {
   "cell_type": "code",
   "execution_count": 624,
   "id": "c8329f72",
   "metadata": {},
   "outputs": [
    {
     "data": {
      "text/html": [
       "<div>\n",
       "<style scoped>\n",
       "    .dataframe tbody tr th:only-of-type {\n",
       "        vertical-align: middle;\n",
       "    }\n",
       "\n",
       "    .dataframe tbody tr th {\n",
       "        vertical-align: top;\n",
       "    }\n",
       "\n",
       "    .dataframe thead th {\n",
       "        text-align: right;\n",
       "    }\n",
       "</style>\n",
       "<table border=\"1\" class=\"dataframe\">\n",
       "  <thead>\n",
       "    <tr style=\"text-align: right;\">\n",
       "      <th></th>\n",
       "      <th>MI</th>\n",
       "    </tr>\n",
       "  </thead>\n",
       "  <tbody>\n",
       "    <tr>\n",
       "      <th>model</th>\n",
       "      <td>0.460994</td>\n",
       "    </tr>\n",
       "    <tr>\n",
       "      <th>make</th>\n",
       "      <td>0.238724</td>\n",
       "    </tr>\n",
       "    <tr>\n",
       "      <th>vehicle_style</th>\n",
       "      <td>0.083390</td>\n",
       "    </tr>\n",
       "    <tr>\n",
       "      <th>transmission_type</th>\n",
       "      <td>0.020884</td>\n",
       "    </tr>\n",
       "  </tbody>\n",
       "</table>\n",
       "</div>"
      ],
      "text/plain": [
       "                         MI\n",
       "model              0.460994\n",
       "make               0.238724\n",
       "vehicle_style      0.083390\n",
       "transmission_type  0.020884"
      ]
     },
     "execution_count": 624,
     "metadata": {},
     "output_type": "execute_result"
    }
   ],
   "source": [
    "# Apply mutual info comparison to every other variable\n",
    "def calculate_mi(series):\n",
    "    return mutual_info_score(series, df_train_full.above_average)\n",
    "\n",
    "df_mi = df_train_full[categorical].apply(calculate_mi)\n",
    "df_mi = df_mi.sort_values(ascending=False).to_frame(name='MI')\n",
    "\n",
    "\n",
    "df_mi"
   ]
  },
  {
   "cell_type": "markdown",
   "id": "3bddfae9",
   "metadata": {},
   "source": [
    "## Question 4:\n",
    "- Now let's train a logistic regression.\n",
    "- Remember that we have several categorical variables in the dataset. Include them using one-hot encoding.\n",
    "- Fit the model on the training dataset.\n",
    "    - To make sure the results are reproducible across different versions of Scikit-Learn, fit the model with these parameters:\n",
    "    - model = LogisticRegression(solver='liblinear', C=10, max_iter=1000, random_state=42)\n",
    "- Calculate the accuracy on the validation dataset and round it to 2 decimal digits.\n",
    "\n",
    "- What accuracy did you get?"
   ]
  },
  {
   "cell_type": "code",
   "execution_count": 625,
   "id": "229db011",
   "metadata": {},
   "outputs": [],
   "source": [
    "from sklearn.feature_extraction import DictVectorizer"
   ]
  },
  {
   "cell_type": "code",
   "execution_count": 626,
   "id": "9b7c85c0",
   "metadata": {},
   "outputs": [
    {
     "data": {
      "text/plain": [
       "make                  48\n",
       "model                869\n",
       "year                  28\n",
       "engine_hp            339\n",
       "engine_cylinders       9\n",
       "transmission_type      5\n",
       "vehicle_style         16\n",
       "highway_mpg           55\n",
       "city_mpg              62\n",
       "above_average          2\n",
       "dtype: int64"
      ]
     },
     "execution_count": 626,
     "metadata": {},
     "output_type": "execute_result"
    }
   ],
   "source": [
    "df_train.nunique()"
   ]
  },
  {
   "cell_type": "markdown",
   "id": "08a393cf",
   "metadata": {},
   "source": [
    "Our feautures have different more than 2 options, eg we have 869 different models, how do we then encode this into binary?"
   ]
  },
  {
   "cell_type": "code",
   "execution_count": 627,
   "id": "a2f40079",
   "metadata": {},
   "outputs": [
    {
     "data": {
      "text/plain": [
       "{'make': 'Mitsubishi',\n",
       " 'model': 'Endeavor',\n",
       " 'transmission_type': 'AUTOMATIC',\n",
       " 'vehicle_style': '4dr SUV',\n",
       " 'year': 2011,\n",
       " 'engine_hp': 225.0,\n",
       " 'engine_cylinders': 6.0,\n",
       " 'highway_mpg': 19,\n",
       " 'city_mpg': 15}"
      ]
     },
     "execution_count": 627,
     "metadata": {},
     "output_type": "execute_result"
    }
   ],
   "source": [
    "# Turn features into dictionary in prep for One Hot Encoding\n",
    "train_dict = df_train[categorical + numerical].to_dict(orient='records')\n",
    "train_dict[0]"
   ]
  },
  {
   "cell_type": "code",
   "execution_count": 628,
   "id": "4bb6a11c",
   "metadata": {},
   "outputs": [
    {
     "data": {
      "text/html": [
       "<style>#sk-container-id-16 {color: black;}#sk-container-id-16 pre{padding: 0;}#sk-container-id-16 div.sk-toggleable {background-color: white;}#sk-container-id-16 label.sk-toggleable__label {cursor: pointer;display: block;width: 100%;margin-bottom: 0;padding: 0.3em;box-sizing: border-box;text-align: center;}#sk-container-id-16 label.sk-toggleable__label-arrow:before {content: \"▸\";float: left;margin-right: 0.25em;color: #696969;}#sk-container-id-16 label.sk-toggleable__label-arrow:hover:before {color: black;}#sk-container-id-16 div.sk-estimator:hover label.sk-toggleable__label-arrow:before {color: black;}#sk-container-id-16 div.sk-toggleable__content {max-height: 0;max-width: 0;overflow: hidden;text-align: left;background-color: #f0f8ff;}#sk-container-id-16 div.sk-toggleable__content pre {margin: 0.2em;color: black;border-radius: 0.25em;background-color: #f0f8ff;}#sk-container-id-16 input.sk-toggleable__control:checked~div.sk-toggleable__content {max-height: 200px;max-width: 100%;overflow: auto;}#sk-container-id-16 input.sk-toggleable__control:checked~label.sk-toggleable__label-arrow:before {content: \"▾\";}#sk-container-id-16 div.sk-estimator input.sk-toggleable__control:checked~label.sk-toggleable__label {background-color: #d4ebff;}#sk-container-id-16 div.sk-label input.sk-toggleable__control:checked~label.sk-toggleable__label {background-color: #d4ebff;}#sk-container-id-16 input.sk-hidden--visually {border: 0;clip: rect(1px 1px 1px 1px);clip: rect(1px, 1px, 1px, 1px);height: 1px;margin: -1px;overflow: hidden;padding: 0;position: absolute;width: 1px;}#sk-container-id-16 div.sk-estimator {font-family: monospace;background-color: #f0f8ff;border: 1px dotted black;border-radius: 0.25em;box-sizing: border-box;margin-bottom: 0.5em;}#sk-container-id-16 div.sk-estimator:hover {background-color: #d4ebff;}#sk-container-id-16 div.sk-parallel-item::after {content: \"\";width: 100%;border-bottom: 1px solid gray;flex-grow: 1;}#sk-container-id-16 div.sk-label:hover label.sk-toggleable__label {background-color: #d4ebff;}#sk-container-id-16 div.sk-serial::before {content: \"\";position: absolute;border-left: 1px solid gray;box-sizing: border-box;top: 0;bottom: 0;left: 50%;z-index: 0;}#sk-container-id-16 div.sk-serial {display: flex;flex-direction: column;align-items: center;background-color: white;padding-right: 0.2em;padding-left: 0.2em;position: relative;}#sk-container-id-16 div.sk-item {position: relative;z-index: 1;}#sk-container-id-16 div.sk-parallel {display: flex;align-items: stretch;justify-content: center;background-color: white;position: relative;}#sk-container-id-16 div.sk-item::before, #sk-container-id-16 div.sk-parallel-item::before {content: \"\";position: absolute;border-left: 1px solid gray;box-sizing: border-box;top: 0;bottom: 0;left: 50%;z-index: -1;}#sk-container-id-16 div.sk-parallel-item {display: flex;flex-direction: column;z-index: 1;position: relative;background-color: white;}#sk-container-id-16 div.sk-parallel-item:first-child::after {align-self: flex-end;width: 50%;}#sk-container-id-16 div.sk-parallel-item:last-child::after {align-self: flex-start;width: 50%;}#sk-container-id-16 div.sk-parallel-item:only-child::after {width: 0;}#sk-container-id-16 div.sk-dashed-wrapped {border: 1px dashed gray;margin: 0 0.4em 0.5em 0.4em;box-sizing: border-box;padding-bottom: 0.4em;background-color: white;}#sk-container-id-16 div.sk-label label {font-family: monospace;font-weight: bold;display: inline-block;line-height: 1.2em;}#sk-container-id-16 div.sk-label-container {text-align: center;}#sk-container-id-16 div.sk-container {/* jupyter's `normalize.less` sets `[hidden] { display: none; }` but bootstrap.min.css set `[hidden] { display: none !important; }` so we also need the `!important` here to be able to override the default hidden behavior on the sphinx rendered scikit-learn.org. See: https://github.com/scikit-learn/scikit-learn/issues/21755 */display: inline-block !important;position: relative;}#sk-container-id-16 div.sk-text-repr-fallback {display: none;}</style><div id=\"sk-container-id-16\" class=\"sk-top-container\"><div class=\"sk-text-repr-fallback\"><pre>DictVectorizer(sparse=False)</pre><b>In a Jupyter environment, please rerun this cell to show the HTML representation or trust the notebook. <br />On GitHub, the HTML representation is unable to render, please try loading this page with nbviewer.org.</b></div><div class=\"sk-container\" hidden><div class=\"sk-item\"><div class=\"sk-estimator sk-toggleable\"><input class=\"sk-toggleable__control sk-hidden--visually\" id=\"sk-estimator-id-16\" type=\"checkbox\" checked><label for=\"sk-estimator-id-16\" class=\"sk-toggleable__label sk-toggleable__label-arrow\">DictVectorizer</label><div class=\"sk-toggleable__content\"><pre>DictVectorizer(sparse=False)</pre></div></div></div></div></div>"
      ],
      "text/plain": [
       "DictVectorizer(sparse=False)"
      ]
     },
     "execution_count": 628,
     "metadata": {},
     "output_type": "execute_result"
    }
   ],
   "source": [
    "# Fit the model on training dataset\n",
    "dv = DictVectorizer(sparse=False)\n",
    "dv.fit(train_dict)"
   ]
  },
  {
   "cell_type": "code",
   "execution_count": 629,
   "id": "0113c508",
   "metadata": {},
   "outputs": [
    {
     "data": {
      "text/plain": [
       "array(['city_mpg', 'engine_cylinders', 'engine_hp', 'highway_mpg',\n",
       "       'make=Acura', 'make=Alfa Romeo', 'make=Aston Martin', 'make=Audi',\n",
       "       'make=BMW', 'make=Bentley', 'make=Bugatti', 'make=Buick',\n",
       "       'make=Cadillac', 'make=Chevrolet', 'make=Chrysler', 'make=Dodge',\n",
       "       'make=FIAT', 'make=Ferrari', 'make=Ford', 'make=GMC',\n",
       "       'make=Genesis', 'make=HUMMER', 'make=Honda', 'make=Hyundai',\n",
       "       'make=Infiniti', 'make=Kia', 'make=Lamborghini', 'make=Land Rover',\n",
       "       'make=Lexus', 'make=Lincoln', 'make=Lotus', 'make=Maserati',\n",
       "       'make=Maybach', 'make=Mazda', 'make=McLaren', 'make=Mercedes-Benz',\n",
       "       'make=Mitsubishi', 'make=Nissan', 'make=Oldsmobile',\n",
       "       'make=Plymouth', 'make=Pontiac', 'make=Porsche',\n",
       "       'make=Rolls-Royce', 'make=Saab', 'make=Scion', 'make=Spyker',\n",
       "       'make=Subaru', 'make=Suzuki', 'make=Tesla', 'make=Toyota',\n",
       "       'make=Volkswagen', 'make=Volvo', 'model=1 Series', 'model=100',\n",
       "       'model=124 Spider', 'model=190-Class', 'model=2', 'model=2 Series',\n",
       "       'model=200', 'model=200SX', 'model=240', 'model=240SX', 'model=3',\n",
       "       'model=3 Series', 'model=3 Series Gran Turismo', 'model=300',\n",
       "       'model=300-Class', 'model=3000GT', 'model=300M', 'model=300ZX',\n",
       "       'model=323', 'model=350-Class', 'model=350Z', 'model=360',\n",
       "       'model=370Z', 'model=4 Series', 'model=4 Series Gran Coupe',\n",
       "       'model=400-Class', 'model=420-Class', 'model=456M',\n",
       "       'model=458 Italia', 'model=4C', 'model=4Runner', 'model=5',\n",
       "       'model=5 Series', 'model=5 Series Gran Turismo', 'model=500',\n",
       "       'model=500-Class', 'model=500L', 'model=500X', 'model=500e',\n",
       "       'model=550', 'model=560-Class', 'model=57', 'model=570S',\n",
       "       'model=575M', 'model=599', 'model=6', 'model=6 Series',\n",
       "       'model=6 Series Gran Coupe', 'model=600-Class', 'model=6000',\n",
       "       'model=612 Scaglietti', 'model=62', 'model=626', 'model=7 Series',\n",
       "       'model=740', 'model=760', 'model=780', 'model=8 Series',\n",
       "       'model=80', 'model=850', 'model=9-2X', 'model=9-3',\n",
       "       'model=9-3 Griffin', 'model=9-4X', 'model=9-5', 'model=9-7X',\n",
       "       'model=90', 'model=900', 'model=9000', 'model=911', 'model=928',\n",
       "       'model=929', 'model=940', 'model=944', 'model=960', 'model=968',\n",
       "       'model=A3', 'model=A4', 'model=A5', 'model=A6', 'model=A7',\n",
       "       'model=A8', 'model=ALPINA B6 Gran Coupe', 'model=ALPINA B7',\n",
       "       'model=AMG GT', 'model=ATS', 'model=ATS Coupe', 'model=Acadia',\n",
       "       'model=Acadia Limited', 'model=Accent', 'model=Acclaim',\n",
       "       'model=Accord', 'model=Accord Crosstour', 'model=Accord Hybrid',\n",
       "       'model=Accord Plug-In Hybrid', 'model=Achieva',\n",
       "       'model=ActiveHybrid 5', 'model=ActiveHybrid 7',\n",
       "       'model=ActiveHybrid X6', 'model=Aerio', 'model=Aerostar',\n",
       "       'model=Alero', 'model=Allante', 'model=Altima',\n",
       "       'model=Altima Hybrid', 'model=Amanti', 'model=Armada',\n",
       "       'model=Arnage', 'model=Aspen', 'model=Aspire', 'model=Astro',\n",
       "       'model=Astro Cargo', 'model=Aurora', 'model=Avalanche',\n",
       "       'model=Avalon', 'model=Avalon Hybrid', 'model=Avenger',\n",
       "       'model=Aventador', 'model=Aveo', 'model=Aviator', 'model=Axxess',\n",
       "       'model=Azera', 'model=Aztek', 'model=Azure', 'model=Azure T',\n",
       "       'model=B-Class Electric Drive', 'model=B-Series',\n",
       "       'model=B-Series Pickup', 'model=B-Series Truck',\n",
       "       'model=B9 Tribeca', 'model=BRZ', 'model=Baja', 'model=Beetle',\n",
       "       'model=Beetle Convertible', 'model=Beretta',\n",
       "       'model=Black Diamond Avalanche', 'model=Blackwood', 'model=Blazer',\n",
       "       'model=Bonneville', 'model=Borrego', 'model=Boxster',\n",
       "       'model=Bravada', 'model=Breeze', 'model=Bronco', 'model=Bronco II',\n",
       "       'model=Brooklands', 'model=Brougham', 'model=C-Class',\n",
       "       'model=C-Max Hybrid', 'model=C/K 1500 Series',\n",
       "       'model=C/K 2500 Series', 'model=C30', 'model=C43 AMG', 'model=C70',\n",
       "       'model=C8', 'model=CC', 'model=CL', 'model=CL-Class',\n",
       "       'model=CLA-Class', 'model=CLK-Class', 'model=CLS-Class',\n",
       "       'model=CR-V', 'model=CR-Z', 'model=CT6', 'model=CTS',\n",
       "       'model=CTS Coupe', 'model=CTS Wagon', 'model=CTS-V',\n",
       "       'model=CTS-V Coupe', 'model=CTS-V Wagon', 'model=CX-3',\n",
       "       'model=CX-5', 'model=CX-7', 'model=CX-9', 'model=Cabrio',\n",
       "       'model=Cabriolet', 'model=Cadenza', 'model=Caliber',\n",
       "       'model=Camaro', 'model=Camry', 'model=Camry Hybrid',\n",
       "       'model=Camry Solara', 'model=Canyon', 'model=Caprice',\n",
       "       'model=Captiva Sport', 'model=Caravan', 'model=Carrera GT',\n",
       "       'model=Cascada', 'model=Catera', 'model=Cavalier', 'model=Cayenne',\n",
       "       'model=Cayman', 'model=Cayman S', 'model=Celebrity',\n",
       "       'model=Celica', 'model=Century', 'model=Challenger',\n",
       "       'model=Charger', 'model=Chevy Van', 'model=City Express',\n",
       "       'model=Civic', 'model=Civic CRX', 'model=Civic del Sol',\n",
       "       'model=Classic', 'model=Cobalt', 'model=Colorado', 'model=Colt',\n",
       "       'model=Concorde', 'model=Continental',\n",
       "       'model=Continental Flying Spur',\n",
       "       'model=Continental Flying Spur Speed', 'model=Continental GT',\n",
       "       'model=Continental GT Speed',\n",
       "       'model=Continental GT Speed Convertible', 'model=Continental GTC',\n",
       "       'model=Continental GTC Speed', 'model=Continental Supersports',\n",
       "       'model=Continental Supersports Convertible', 'model=Contour',\n",
       "       'model=Corniche', 'model=Corolla', 'model=Corolla iM',\n",
       "       'model=Corrado', 'model=Corvette', 'model=Corvette Stingray',\n",
       "       'model=Coupe', 'model=Cressida', 'model=Crossfire',\n",
       "       'model=Crosstour', 'model=Crosstrek', 'model=Crown Victoria',\n",
       "       'model=Cruze', 'model=Cruze Limited', 'model=Cube',\n",
       "       'model=Custom Cruiser', 'model=Cutlass', 'model=Cutlass Calais',\n",
       "       'model=Cutlass Ciera', 'model=Cutlass Supreme', 'model=DB9',\n",
       "       'model=DB9 GT', 'model=DBS', 'model=DTS', 'model=Dakota',\n",
       "       'model=Dart', 'model=Dawn', 'model=Daytona', 'model=DeVille',\n",
       "       'model=Defender', 'model=Diablo', 'model=Diamante',\n",
       "       'model=Discovery', 'model=Discovery Series II',\n",
       "       'model=Discovery Sport', 'model=Durango', 'model=Dynasty',\n",
       "       'model=E-150', 'model=E-250', 'model=E-Class',\n",
       "       'model=E-Series Van', 'model=E-Series Wagon', 'model=E55 AMG',\n",
       "       'model=ECHO', 'model=ES 250', 'model=ES 300', 'model=ES 300h',\n",
       "       'model=EX', 'model=EX35', 'model=Eclipse', 'model=Eclipse Spyder',\n",
       "       'model=Edge', 'model=Eighty-Eight', 'model=Eighty-Eight Royale',\n",
       "       'model=Elantra', 'model=Elantra Coupe', 'model=Elantra GT',\n",
       "       'model=Elantra Touring', 'model=Eldorado', 'model=Electra',\n",
       "       'model=Element', 'model=Elise', 'model=Enclave', 'model=Encore',\n",
       "       'model=Endeavor', 'model=Entourage', 'model=Envision',\n",
       "       'model=Envoy', 'model=Envoy XL', 'model=Envoy XUV', 'model=Eos',\n",
       "       'model=Equator', 'model=Equinox', 'model=Equus', 'model=Escalade',\n",
       "       'model=Escalade ESV', 'model=Escalade EXT',\n",
       "       'model=Escalade Hybrid', 'model=Escape', 'model=Escape Hybrid',\n",
       "       'model=Escort', 'model=Esprit', 'model=Esteem', 'model=EuroVan',\n",
       "       'model=Evora', 'model=Excel', 'model=Exige', 'model=Expedition',\n",
       "       'model=Explorer', 'model=Explorer Sport',\n",
       "       'model=Explorer Sport Trac', 'model=Expo', 'model=Express',\n",
       "       'model=Express Cargo', 'model=F-150', 'model=F-150 Heritage',\n",
       "       'model=F-150 SVT Lightning', 'model=F-250', 'model=F12 Berlinetta',\n",
       "       'model=F430', 'model=FF', 'model=FJ Cruiser', 'model=FR-S',\n",
       "       'model=FX', 'model=FX35', 'model=FX45', 'model=FX50',\n",
       "       'model=Festiva', 'model=Fiesta', 'model=Firebird', 'model=Fit',\n",
       "       'model=Five Hundred', 'model=Fleetwood', 'model=Flex',\n",
       "       'model=Flying Spur', 'model=Focus', 'model=Focus ST',\n",
       "       'model=Forenza', 'model=Forester', 'model=Forte', 'model=Fox',\n",
       "       'model=Freelander', 'model=Freestar', 'model=Freestyle',\n",
       "       'model=Frontier', 'model=Fusion', 'model=Fusion Hybrid',\n",
       "       'model=G Convertible', 'model=G Coupe', 'model=G Sedan',\n",
       "       'model=G-Class', 'model=G20', 'model=G3', 'model=G35', 'model=G37',\n",
       "       'model=G37 Convertible', 'model=G37 Coupe', 'model=G37 Sedan',\n",
       "       'model=G5', 'model=G6', 'model=G8', 'model=G80', 'model=GL-Class',\n",
       "       'model=GLA-Class', 'model=GLC-Class', 'model=GLE-Class',\n",
       "       'model=GLE-Class Coupe', 'model=GLI', 'model=GLK-Class',\n",
       "       'model=GLS-Class', 'model=GS 200t', 'model=GS 300', 'model=GS 350',\n",
       "       'model=GS 400', 'model=GS 430', 'model=GS 450h', 'model=GS 460',\n",
       "       'model=GT', 'model=GT-R', 'model=GTI', 'model=GTO', 'model=GX 460',\n",
       "       'model=GX 470', 'model=Galant', 'model=Gallardo', 'model=Genesis',\n",
       "       'model=Genesis Coupe', 'model=Ghibli', 'model=Ghost',\n",
       "       'model=Ghost Series II', 'model=Golf', 'model=Golf Alltrack',\n",
       "       'model=Golf GTI', 'model=Golf R', 'model=Golf SportWagen',\n",
       "       'model=GranSport', 'model=GranTurismo',\n",
       "       'model=GranTurismo Convertible', 'model=Grand Am',\n",
       "       'model=Grand Caravan', 'model=Grand Prix', 'model=Grand Vitara',\n",
       "       'model=Grand Voyager', 'model=H3', 'model=H3T', 'model=HHR',\n",
       "       'model=HR-V', 'model=HS 250h', 'model=Highlander',\n",
       "       'model=Highlander Hybrid', 'model=Horizon', 'model=Huracan',\n",
       "       'model=I30', 'model=I35', 'model=ILX', 'model=ILX Hybrid',\n",
       "       'model=IS 200t', 'model=IS 250', 'model=IS 250 C', 'model=IS 300',\n",
       "       'model=IS 350', 'model=IS 350 C', 'model=IS F', 'model=Impala',\n",
       "       'model=Impala Limited', 'model=Imperial', 'model=Impreza',\n",
       "       'model=Impreza WRX', 'model=Insight', 'model=Integra',\n",
       "       'model=Intrepid', 'model=Intrigue', 'model=J30', 'model=JX',\n",
       "       'model=Jetta', 'model=Jetta GLI', 'model=Jetta Hybrid',\n",
       "       'model=Jetta SportWagen', 'model=Jimmy', 'model=Journey',\n",
       "       'model=Juke', 'model=Justy', 'model=K900', 'model=Kizashi',\n",
       "       'model=LFA', 'model=LHS', 'model=LR2', 'model=LR3', 'model=LR4',\n",
       "       'model=LS', 'model=LS 400', 'model=LS 430', 'model=LS 460',\n",
       "       'model=LS 600h L', 'model=LSS', 'model=LTD Crown Victoria',\n",
       "       'model=LX 450', 'model=LX 470', 'model=LX 570', 'model=LaCrosse',\n",
       "       'model=Lancer', 'model=Lancer Evolution', 'model=Lancer Sportback',\n",
       "       'model=Land Cruiser', 'model=Laser', 'model=Le Baron',\n",
       "       'model=Le Mans', 'model=LeSabre', 'model=Leaf', 'model=Legacy',\n",
       "       'model=Legend', 'model=Levante', 'model=Loyale', 'model=Lucerne',\n",
       "       'model=Lumina', 'model=Lumina Minivan', 'model=M', 'model=M-Class',\n",
       "       'model=M2', 'model=M3', 'model=M30', 'model=M35', 'model=M37',\n",
       "       'model=M4', 'model=M45', 'model=M5', 'model=M56', 'model=M6',\n",
       "       'model=M6 Gran Coupe', 'model=MDX', 'model=MKC', 'model=MKS',\n",
       "       'model=MKT', 'model=MKX', 'model=MKZ', 'model=MKZ Hybrid',\n",
       "       'model=MP4-12C', 'model=MPV', 'model=MR2', 'model=MR2 Spyder',\n",
       "       'model=MX-3', 'model=MX-5 Miata', 'model=MX-6', 'model=Macan',\n",
       "       'model=Magnum', 'model=Malibu', 'model=Malibu Classic',\n",
       "       'model=Malibu Hybrid', 'model=Malibu Limited', 'model=Malibu Maxx',\n",
       "       'model=Mark LT', 'model=Mark VII', 'model=Mark VIII',\n",
       "       'model=Matrix', 'model=Maxima', 'model=Maybach',\n",
       "       'model=Mazdaspeed 3', 'model=Mazdaspeed MX-5 Miata',\n",
       "       'model=Mazdaspeed Protege', 'model=Metris', 'model=Metro',\n",
       "       'model=Mighty Max Pickup', 'model=Millenia', 'model=Mirage',\n",
       "       'model=Mirage G4', 'model=Model S', 'model=Monaco',\n",
       "       'model=Montana', 'model=Montana SV6', 'model=Monte Carlo',\n",
       "       'model=Montero', 'model=Montero Sport', 'model=Mulsanne',\n",
       "       'model=Murano', 'model=Murano CrossCabriolet', 'model=Murcielago',\n",
       "       'model=Mustang', 'model=Mustang SVT Cobra', 'model=NSX',\n",
       "       'model=NV200', 'model=NX', 'model=NX 200t', 'model=NX 300h',\n",
       "       'model=Navajo', 'model=Navigator', 'model=Neon',\n",
       "       'model=New Beetle', 'model=New Yorker', 'model=Ninety-Eight',\n",
       "       'model=Nitro', 'model=Odyssey', 'model=Omni', 'model=Optima',\n",
       "       'model=Optima Hybrid', 'model=Outback', 'model=Outlander',\n",
       "       'model=Outlander Sport', 'model=PT Cruiser', 'model=Pacifica',\n",
       "       'model=Panamera', 'model=Park Avenue', 'model=Paseo',\n",
       "       'model=Passat', 'model=Passport', 'model=Pathfinder',\n",
       "       'model=Phaeton', 'model=Phantom', 'model=Phantom Coupe',\n",
       "       'model=Phantom Drophead Coupe', 'model=Pickup', 'model=Pilot',\n",
       "       'model=Precis', 'model=Prelude', 'model=Previa', 'model=Prius',\n",
       "       'model=Prius Prime', 'model=Prius c', 'model=Prius v',\n",
       "       'model=Prizm', 'model=Probe', 'model=Protege', 'model=Protege5',\n",
       "       'model=Prowler', 'model=Q3', 'model=Q40', 'model=Q45', 'model=Q5',\n",
       "       'model=Q50', 'model=Q60 Convertible', 'model=Q60 Coupe',\n",
       "       'model=Q7', 'model=Q70', 'model=QX', 'model=QX4', 'model=QX50',\n",
       "       'model=QX56', 'model=QX60', 'model=QX70', 'model=QX80',\n",
       "       'model=Quattroporte', 'model=Quest', 'model=R-Class', 'model=R32',\n",
       "       'model=R8', 'model=RAM 150', 'model=RAM 250', 'model=RAV4',\n",
       "       'model=RAV4 EV', 'model=RAV4 Hybrid', 'model=RC 200t',\n",
       "       'model=RC 300', 'model=RC 350', 'model=RDX', 'model=RL',\n",
       "       'model=RLX', 'model=RS 4', 'model=RS 5', 'model=RS 7', 'model=RSX',\n",
       "       'model=RX 300', 'model=RX 330', 'model=RX 350', 'model=RX 400h',\n",
       "       'model=RX 450h', 'model=RX-7', 'model=RX-8', 'model=Rabbit',\n",
       "       'model=Raider', 'model=Rainier', 'model=Rally Wagon',\n",
       "       'model=Ram 50 Pickup', 'model=Ram Cargo', 'model=Ram Pickup 1500',\n",
       "       'model=Ram Van', 'model=Ram Wagon', 'model=Ramcharger',\n",
       "       'model=Range Rover', 'model=Range Rover Evoque',\n",
       "       'model=Range Rover Sport', 'model=Ranger', 'model=Rapide',\n",
       "       'model=Rapide S', 'model=Reatta', 'model=Regal', 'model=Regency',\n",
       "       'model=Rendezvous', 'model=Reno', 'model=Reventon',\n",
       "       'model=Ridgeline', 'model=Rio', 'model=Riviera',\n",
       "       'model=Roadmaster', 'model=Rogue', 'model=Rogue Select',\n",
       "       'model=Rondo', 'model=Routan', 'model=S-10', 'model=S-10 Blazer',\n",
       "       'model=S-15', 'model=S-15 Jimmy', 'model=S-Class', 'model=S2000',\n",
       "       'model=S3', 'model=S4', 'model=S40', 'model=S5', 'model=S6',\n",
       "       'model=S60', 'model=S60 Cross Country', 'model=S7', 'model=S70',\n",
       "       'model=S8', 'model=S80', 'model=S90', 'model=SC 300',\n",
       "       'model=SC 400', 'model=SC 430', 'model=SL-Class',\n",
       "       'model=SLC-Class', 'model=SLK-Class', 'model=SLR McLaren',\n",
       "       'model=SLS AMG', 'model=SLS AMG GT',\n",
       "       'model=SLS AMG GT Final Edition', 'model=SLX', 'model=SQ5',\n",
       "       'model=SRT Viper', 'model=SRX', 'model=STS', 'model=STS-V',\n",
       "       'model=SVX', 'model=SX4', 'model=Safari', 'model=Safari Cargo',\n",
       "       'model=Samurai', 'model=Santa Fe', 'model=Santa Fe Sport',\n",
       "       'model=Savana', 'model=Savana Cargo', 'model=Scoupe',\n",
       "       'model=Sebring', 'model=Sedona', 'model=Sentra', 'model=Sephia',\n",
       "       'model=Sequoia', 'model=Seville', 'model=Shadow',\n",
       "       'model=Shelby GT350', 'model=Shelby GT500', 'model=Sidekick',\n",
       "       'model=Sienna', 'model=Sierra 1500', 'model=Sierra 1500 Classic',\n",
       "       'model=Sierra 1500 Hybrid', 'model=Sierra 1500HD',\n",
       "       'model=Sierra C3', 'model=Sierra Classic 1500', 'model=Sigma',\n",
       "       'model=Silhouette', 'model=Silver Seraph', 'model=Silverado 1500',\n",
       "       'model=Silverado 1500 Classic', 'model=Silverado 1500 Hybrid',\n",
       "       'model=Skylark', 'model=Solstice', 'model=Sonata',\n",
       "       'model=Sonata Hybrid', 'model=Sonic', 'model=Sonoma',\n",
       "       'model=Sorento', 'model=Soul', 'model=Soul EV', 'model=Spark',\n",
       "       'model=Spark EV', 'model=Spectra', 'model=Spirit',\n",
       "       'model=Sportage', 'model=Sportvan', 'model=Spyder', 'model=Stanza',\n",
       "       'model=Stealth', 'model=Stratus', 'model=Suburban',\n",
       "       'model=Sunbird', 'model=Sundance', 'model=Sunfire', 'model=Supra',\n",
       "       'model=Swift', 'model=Syclone', 'model=T100', 'model=TL',\n",
       "       'model=TLX', 'model=TSX', 'model=TSX Sport Wagon', 'model=TT',\n",
       "       'model=TTS', 'model=Tacoma', 'model=Tahoe', 'model=Tahoe Hybrid',\n",
       "       'model=Tahoe Limited/Z71', 'model=Taurus', 'model=Taurus X',\n",
       "       'model=Tempo', 'model=Tercel', 'model=Terrain', 'model=Terraza',\n",
       "       'model=Thunderbird', 'model=Tiburon', 'model=Tiguan',\n",
       "       'model=Titan', 'model=Toronado', 'model=Torrent', 'model=Touareg',\n",
       "       'model=Touareg 2', 'model=Town Car', 'model=Town and Country',\n",
       "       'model=Tracker', 'model=TrailBlazer', 'model=TrailBlazer EXT',\n",
       "       'model=Trans Sport', 'model=Transit Connect',\n",
       "       'model=Transit Wagon', 'model=Traverse', 'model=Trax',\n",
       "       'model=Tribeca', 'model=Tribute', 'model=Tribute Hybrid',\n",
       "       'model=Truck', 'model=Tucson', 'model=Tundra', 'model=Typhoon',\n",
       "       'model=Uplander', 'model=V12 Vanquish', 'model=V12 Vantage',\n",
       "       'model=V12 Vantage S', 'model=V40', 'model=V50', 'model=V60',\n",
       "       'model=V60 Cross Country', 'model=V70', 'model=V8 Vantage',\n",
       "       'model=Van', 'model=Vanagon', 'model=Vandura', 'model=Vanquish',\n",
       "       'model=Vanwagon', 'model=Veloster', 'model=Venture', 'model=Venza',\n",
       "       'model=Veracruz', 'model=Verano', 'model=Verona', 'model=Versa',\n",
       "       'model=Versa Note', 'model=Veyron 16.4', 'model=Vibe',\n",
       "       'model=Vigor', 'model=Viper', 'model=Virage', 'model=Vitara',\n",
       "       'model=Voyager', 'model=WRX', 'model=Windstar',\n",
       "       'model=Windstar Cargo', 'model=Wraith', 'model=X-90', 'model=X1',\n",
       "       'model=X3', 'model=X4', 'model=X5', 'model=X5 M', 'model=X6',\n",
       "       'model=X6 M', 'model=XC', 'model=XC60', 'model=XC70', 'model=XC90',\n",
       "       'model=XG300', 'model=XG350', 'model=XL-7', 'model=XL7',\n",
       "       'model=XLR', 'model=XLR-V', 'model=XT', 'model=XT5', 'model=XTS',\n",
       "       'model=XV Crosstrek', 'model=Xterra', 'model=Yaris',\n",
       "       'model=Yaris iA', 'model=Yukon', 'model=Yukon Denali',\n",
       "       'model=Yukon Hybrid', 'model=Yukon XL', 'model=Z3', 'model=Z4',\n",
       "       'model=Z4 M', 'model=Z8', 'model=ZDX', 'model=allroad',\n",
       "       'model=allroad quattro', 'model=e-Golf', 'model=i-MiEV',\n",
       "       'model=i3', 'model=iA', 'model=iQ', 'model=tC', 'model=xA',\n",
       "       'model=xB', 'model=xD', 'transmission_type=AUTOMATED_MANUAL',\n",
       "       'transmission_type=AUTOMATIC', 'transmission_type=DIRECT_DRIVE',\n",
       "       'transmission_type=MANUAL', 'transmission_type=UNKNOWN',\n",
       "       'vehicle_style=2dr Hatchback', 'vehicle_style=2dr SUV',\n",
       "       'vehicle_style=4dr Hatchback', 'vehicle_style=4dr SUV',\n",
       "       'vehicle_style=Cargo Minivan', 'vehicle_style=Cargo Van',\n",
       "       'vehicle_style=Convertible', 'vehicle_style=Convertible SUV',\n",
       "       'vehicle_style=Coupe', 'vehicle_style=Crew Cab Pickup',\n",
       "       'vehicle_style=Extended Cab Pickup',\n",
       "       'vehicle_style=Passenger Minivan', 'vehicle_style=Passenger Van',\n",
       "       'vehicle_style=Regular Cab Pickup', 'vehicle_style=Sedan',\n",
       "       'vehicle_style=Wagon', 'year'], dtype=object)"
      ]
     },
     "execution_count": 629,
     "metadata": {},
     "output_type": "execute_result"
    }
   ],
   "source": [
    "dv.get_feature_names_out()"
   ]
  },
  {
   "cell_type": "code",
   "execution_count": 630,
   "id": "f38aa3e6",
   "metadata": {},
   "outputs": [
    {
     "data": {
      "text/plain": [
       "array([[1.500e+01, 6.000e+00, 2.250e+02, ..., 0.000e+00, 0.000e+00,\n",
       "        2.011e+03],\n",
       "       [1.700e+01, 6.000e+00, 2.760e+02, ..., 0.000e+00, 0.000e+00,\n",
       "        2.009e+03],\n",
       "       [1.200e+01, 1.000e+01, 5.700e+02, ..., 0.000e+00, 0.000e+00,\n",
       "        2.012e+03],\n",
       "       ...,\n",
       "       [1.700e+01, 6.000e+00, 2.600e+02, ..., 0.000e+00, 0.000e+00,\n",
       "        2.012e+03],\n",
       "       [1.900e+01, 4.000e+00, 1.360e+02, ..., 0.000e+00, 0.000e+00,\n",
       "        1.993e+03],\n",
       "       [1.700e+01, 6.000e+00, 3.650e+02, ..., 1.000e+00, 0.000e+00,\n",
       "        2.015e+03]])"
      ]
     },
     "execution_count": 630,
     "metadata": {},
     "output_type": "execute_result"
    }
   ],
   "source": [
    "# Transform features into a matrix\n",
    "X_train = dv.transform(train_dict)\n",
    "X_train"
   ]
  },
  {
   "cell_type": "code",
   "execution_count": 631,
   "id": "32c7a7fd",
   "metadata": {},
   "outputs": [
    {
     "data": {
      "text/plain": [
       "array([[  15.,    6.,  225., ...,    0.,    0., 2011.],\n",
       "       [  17.,    6.,  276., ...,    0.,    0., 2009.],\n",
       "       [  12.,   10.,  570., ...,    0.,    0., 2012.],\n",
       "       [  20.,    4.,  200., ...,    0.,    0., 2016.],\n",
       "       [  20.,    4.,  158., ...,    0.,    0., 2009.]])"
      ]
     },
     "execution_count": 631,
     "metadata": {},
     "output_type": "execute_result"
    }
   ],
   "source": [
    "X_train[:5]"
   ]
  },
  {
   "cell_type": "markdown",
   "id": "34c55225",
   "metadata": {},
   "source": [
    "#### Logistic Regression"
   ]
  },
  {
   "cell_type": "code",
   "execution_count": 632,
   "id": "b4e73982",
   "metadata": {},
   "outputs": [],
   "source": [
    "from sklearn.linear_model import LogisticRegression"
   ]
  },
  {
   "cell_type": "code",
   "execution_count": 633,
   "id": "d4066b85",
   "metadata": {},
   "outputs": [
    {
     "data": {
      "text/plain": [
       "array([0, 0, 1, ..., 0, 0, 0])"
      ]
     },
     "execution_count": 633,
     "metadata": {},
     "output_type": "execute_result"
    }
   ],
   "source": [
    "y_train"
   ]
  },
  {
   "cell_type": "code",
   "execution_count": 634,
   "id": "b7d551bb",
   "metadata": {},
   "outputs": [
    {
     "data": {
      "text/html": [
       "<style>#sk-container-id-17 {color: black;}#sk-container-id-17 pre{padding: 0;}#sk-container-id-17 div.sk-toggleable {background-color: white;}#sk-container-id-17 label.sk-toggleable__label {cursor: pointer;display: block;width: 100%;margin-bottom: 0;padding: 0.3em;box-sizing: border-box;text-align: center;}#sk-container-id-17 label.sk-toggleable__label-arrow:before {content: \"▸\";float: left;margin-right: 0.25em;color: #696969;}#sk-container-id-17 label.sk-toggleable__label-arrow:hover:before {color: black;}#sk-container-id-17 div.sk-estimator:hover label.sk-toggleable__label-arrow:before {color: black;}#sk-container-id-17 div.sk-toggleable__content {max-height: 0;max-width: 0;overflow: hidden;text-align: left;background-color: #f0f8ff;}#sk-container-id-17 div.sk-toggleable__content pre {margin: 0.2em;color: black;border-radius: 0.25em;background-color: #f0f8ff;}#sk-container-id-17 input.sk-toggleable__control:checked~div.sk-toggleable__content {max-height: 200px;max-width: 100%;overflow: auto;}#sk-container-id-17 input.sk-toggleable__control:checked~label.sk-toggleable__label-arrow:before {content: \"▾\";}#sk-container-id-17 div.sk-estimator input.sk-toggleable__control:checked~label.sk-toggleable__label {background-color: #d4ebff;}#sk-container-id-17 div.sk-label input.sk-toggleable__control:checked~label.sk-toggleable__label {background-color: #d4ebff;}#sk-container-id-17 input.sk-hidden--visually {border: 0;clip: rect(1px 1px 1px 1px);clip: rect(1px, 1px, 1px, 1px);height: 1px;margin: -1px;overflow: hidden;padding: 0;position: absolute;width: 1px;}#sk-container-id-17 div.sk-estimator {font-family: monospace;background-color: #f0f8ff;border: 1px dotted black;border-radius: 0.25em;box-sizing: border-box;margin-bottom: 0.5em;}#sk-container-id-17 div.sk-estimator:hover {background-color: #d4ebff;}#sk-container-id-17 div.sk-parallel-item::after {content: \"\";width: 100%;border-bottom: 1px solid gray;flex-grow: 1;}#sk-container-id-17 div.sk-label:hover label.sk-toggleable__label {background-color: #d4ebff;}#sk-container-id-17 div.sk-serial::before {content: \"\";position: absolute;border-left: 1px solid gray;box-sizing: border-box;top: 0;bottom: 0;left: 50%;z-index: 0;}#sk-container-id-17 div.sk-serial {display: flex;flex-direction: column;align-items: center;background-color: white;padding-right: 0.2em;padding-left: 0.2em;position: relative;}#sk-container-id-17 div.sk-item {position: relative;z-index: 1;}#sk-container-id-17 div.sk-parallel {display: flex;align-items: stretch;justify-content: center;background-color: white;position: relative;}#sk-container-id-17 div.sk-item::before, #sk-container-id-17 div.sk-parallel-item::before {content: \"\";position: absolute;border-left: 1px solid gray;box-sizing: border-box;top: 0;bottom: 0;left: 50%;z-index: -1;}#sk-container-id-17 div.sk-parallel-item {display: flex;flex-direction: column;z-index: 1;position: relative;background-color: white;}#sk-container-id-17 div.sk-parallel-item:first-child::after {align-self: flex-end;width: 50%;}#sk-container-id-17 div.sk-parallel-item:last-child::after {align-self: flex-start;width: 50%;}#sk-container-id-17 div.sk-parallel-item:only-child::after {width: 0;}#sk-container-id-17 div.sk-dashed-wrapped {border: 1px dashed gray;margin: 0 0.4em 0.5em 0.4em;box-sizing: border-box;padding-bottom: 0.4em;background-color: white;}#sk-container-id-17 div.sk-label label {font-family: monospace;font-weight: bold;display: inline-block;line-height: 1.2em;}#sk-container-id-17 div.sk-label-container {text-align: center;}#sk-container-id-17 div.sk-container {/* jupyter's `normalize.less` sets `[hidden] { display: none; }` but bootstrap.min.css set `[hidden] { display: none !important; }` so we also need the `!important` here to be able to override the default hidden behavior on the sphinx rendered scikit-learn.org. See: https://github.com/scikit-learn/scikit-learn/issues/21755 */display: inline-block !important;position: relative;}#sk-container-id-17 div.sk-text-repr-fallback {display: none;}</style><div id=\"sk-container-id-17\" class=\"sk-top-container\"><div class=\"sk-text-repr-fallback\"><pre>LogisticRegression(C=10, max_iter=1000, random_state=42, solver=&#x27;liblinear&#x27;)</pre><b>In a Jupyter environment, please rerun this cell to show the HTML representation or trust the notebook. <br />On GitHub, the HTML representation is unable to render, please try loading this page with nbviewer.org.</b></div><div class=\"sk-container\" hidden><div class=\"sk-item\"><div class=\"sk-estimator sk-toggleable\"><input class=\"sk-toggleable__control sk-hidden--visually\" id=\"sk-estimator-id-17\" type=\"checkbox\" checked><label for=\"sk-estimator-id-17\" class=\"sk-toggleable__label sk-toggleable__label-arrow\">LogisticRegression</label><div class=\"sk-toggleable__content\"><pre>LogisticRegression(C=10, max_iter=1000, random_state=42, solver=&#x27;liblinear&#x27;)</pre></div></div></div></div></div>"
      ],
      "text/plain": [
       "LogisticRegression(C=10, max_iter=1000, random_state=42, solver='liblinear')"
      ]
     },
     "execution_count": 634,
     "metadata": {},
     "output_type": "execute_result"
    }
   ],
   "source": [
    "# Train a model\n",
    "model = LogisticRegression(solver='liblinear', C=10, max_iter=1000, random_state=42)\n",
    "model.fit(X_train, y_train)"
   ]
  },
  {
   "cell_type": "code",
   "execution_count": 635,
   "id": "497f2cc5",
   "metadata": {},
   "outputs": [
    {
     "data": {
      "text/plain": [
       "array([-0.3601927])"
      ]
     },
     "execution_count": 635,
     "metadata": {},
     "output_type": "execute_result"
    }
   ],
   "source": [
    "model.intercept_"
   ]
  },
  {
   "cell_type": "code",
   "execution_count": 636,
   "id": "2de0ca0b",
   "metadata": {},
   "outputs": [
    {
     "data": {
      "text/plain": [
       "array([ 7.75600465e-02, -1.16768073e-01,  3.65897177e-02, -2.68580486e-03,\n",
       "        1.35354961e+00,  1.80042557e+00,  5.95702725e-01,  2.91174358e+00,\n",
       "        2.39384223e+00,  1.78618275e-01,  3.30036316e-08, -4.91737424e-01,\n",
       "        2.35937594e+00, -1.50178449e+00, -1.41669918e+00, -3.85113146e+00,\n",
       "       -5.12531955e-01,  3.74787716e-01, -1.91311202e+00, -9.79006014e-01,\n",
       "        6.20825014e-01, -2.43317314e-01, -1.31269054e+00, -2.69375207e+00,\n",
       "        3.23536986e-01, -1.53257475e+00,  1.06102659e-02,  1.95644428e+00,\n",
       "        1.32569107e+00,  1.20210701e+00,  4.03811516e+00,  1.05531262e+00,\n",
       "        4.81391092e-03, -1.66324306e+00,  4.61690596e-04,  9.42732488e-01,\n",
       "       -2.01345063e+00, -9.95222760e-01, -1.43812186e+00, -3.49639392e-01,\n",
       "       -3.19551108e+00,  2.02131089e+00,  9.79245249e-01,  9.14695021e-01,\n",
       "       -2.35179864e-01,  3.31607539e-01, -2.72759498e+00, -1.92603564e+00,\n",
       "        3.25063673e+00, -7.66511172e-01, -7.35127369e-01,  1.18759074e+00,\n",
       "       -1.34785088e+00, -4.13033871e-01, -4.80890155e-02, -9.44386183e-03,\n",
       "       -1.97235040e-03, -1.20371857e+00, -9.24309164e-01, -2.62309787e-03,\n",
       "       -4.12161940e-03, -2.79942359e-03, -1.89609280e-01,  3.57879209e-02,\n",
       "        1.69855754e+00,  4.31039474e-01, -4.62756465e-01, -6.54744741e-02,\n",
       "       -1.68118245e-01, -1.67856275e-01, -4.26084847e-04, -1.61697630e-02,\n",
       "       -9.86940735e-01,  1.56287875e-01,  2.64904569e-02,  1.50198771e+00,\n",
       "        8.60789915e-01, -6.18826369e-01, -7.85986737e-02,  1.02374797e-01,\n",
       "        1.81676614e-04,  1.80042557e+00,  4.50399512e-01, -2.66739162e-02,\n",
       "        1.24683895e+00,  9.35882009e-01, -5.15351860e-02, -2.53472066e+00,\n",
       "       -4.52055309e-02, -2.88128317e-01, -7.95739055e-02,  2.61855818e-02,\n",
       "       -2.61598032e-01,  1.86153833e-03,  3.31989048e-04,  2.58656296e-02,\n",
       "        2.91905757e-04, -1.08339416e-01,  4.54814845e-01,  1.81435005e-01,\n",
       "       -2.51541676e+00, -4.08856488e-03,  1.78491850e-03,  2.95237260e-03,\n",
       "       -7.51601394e-03,  1.96338624e-01, -5.46056004e-02, -7.40758391e-03,\n",
       "       -2.78521725e-02, -1.54276086e+00, -5.56441314e-02, -1.07603604e+00,\n",
       "       -1.61092062e-01,  9.47858940e-01,  7.52460400e-01, -9.96647357e-01,\n",
       "        4.91154057e-01,  3.18630057e-01, -2.38145576e-01, -3.38516278e-01,\n",
       "       -9.91527347e-02,  8.27990317e-01, -4.26058189e-01, -1.20118916e-02,\n",
       "       -1.36644600e-01, -4.68108941e-01, -9.22907274e-02, -8.44394108e-01,\n",
       "       -1.03071706e+00, -9.77451209e-01,  1.53853247e+00,  1.36545262e+00,\n",
       "        6.80710262e-01,  2.84583680e-01,  8.32064379e-05,  3.67382131e-04,\n",
       "        9.55111694e-04, -1.42483433e+00, -2.72400462e-01,  1.76431997e+00,\n",
       "        1.17630304e+00, -7.82618706e-03, -2.92852038e-03, -1.05237835e+00,\n",
       "       -1.52221759e-01, -2.50416220e-01, -6.95717041e-02, -8.60551516e-03,\n",
       "        5.87957751e-02,  4.89067302e-02,  7.46231956e-04, -5.25094861e-02,\n",
       "       -7.29328933e-03, -6.26463258e-02, -3.60441027e-01, -6.75171656e-01,\n",
       "       -3.58294626e-02, -1.03629821e-01,  2.23451037e+00,  5.45317046e-02,\n",
       "       -5.32440323e-01, -2.61098670e-04, -2.00566349e-02, -1.02054999e-02,\n",
       "       -9.04710020e-02,  1.59422079e+00, -9.08041435e-01,  1.38980635e+00,\n",
       "       -8.95747776e-02,  2.67212412e-05, -3.32601643e-03, -1.82295001e-01,\n",
       "       -2.69170967e-03, -2.61072354e-01, -2.14356617e-02,  1.21680102e-02,\n",
       "        7.94268087e-04, -3.06610709e-01, -2.61565235e-03, -4.49207592e-03,\n",
       "       -6.11097989e-03, -6.78243274e-01, -2.53872193e-02, -3.66234847e-02,\n",
       "       -2.06958697e-01, -1.63189137e+00, -3.82327369e-03,  9.74129734e-01,\n",
       "        3.86365565e-01, -3.60432036e-02, -1.34986783e-01, -1.29618934e+00,\n",
       "        6.60585403e-01, -7.14716529e-01, -2.26763141e-03, -8.13702094e-03,\n",
       "       -1.30881193e-03,  3.21470006e-03, -1.40505061e-01,  1.46065035e+00,\n",
       "       -1.02606242e-01, -2.53372006e-02, -8.07568790e-03, -1.10511921e-01,\n",
       "       -5.44810020e-01, -4.04115133e-02,  3.31607539e-01,  1.04909599e+00,\n",
       "       -5.37463369e-01,  2.05235868e-02, -5.17600681e-01,  1.38628952e+00,\n",
       "        1.86267065e-01, -4.84472201e-01, -1.76515349e-02,  5.35270271e-01,\n",
       "        1.28814476e+00,  2.84569999e-02, -5.01134248e-02,  1.47538295e-04,\n",
       "        3.82570999e-04,  2.64007714e-04, -5.99446195e-02, -3.24671953e-01,\n",
       "       -4.89721731e-01,  5.60971691e-01, -3.33374761e-02, -3.21527341e-01,\n",
       "        8.92712498e-01, -8.35742772e-03, -2.29526380e+00, -7.89254864e-01,\n",
       "       -3.50006251e-01, -5.07207628e-01, -1.89018432e+00, -5.84187665e-02,\n",
       "       -5.89134588e-02, -6.25821417e-03,  2.95343171e-05, -1.74471079e-01,\n",
       "       -2.76459077e-01, -9.13174459e-03,  1.09882498e-01,  8.13781273e-01,\n",
       "        4.13855842e-01, -1.11447734e-03, -2.86399395e-02, -1.61031678e-02,\n",
       "       -1.49028896e+00, -1.78203197e+00, -1.68411363e-02, -2.26648962e-03,\n",
       "       -2.88681683e-01, -6.01092068e-04, -2.52650703e-03, -1.88187832e-03,\n",
       "       -1.04668978e-01, -1.38191218e+00, -1.41672952e-02, -1.46797797e-01,\n",
       "        2.28690557e+00,  5.37587411e-04,  2.39915083e-04,  4.74960150e-03,\n",
       "        2.38038983e-04,  1.05811872e-05,  4.51133074e-04,  3.24878070e-05,\n",
       "        6.72028667e-05,  2.69315172e-05, -1.78368331e-03,  1.33159225e-01,\n",
       "       -1.03448632e-01, -2.35566930e-03, -1.50649546e-03,  7.58817496e-01,\n",
       "        7.28429746e-02,  3.63168541e-01, -8.63508351e-03, -8.46684829e-02,\n",
       "       -4.96854057e-01, -1.86609514e-02, -2.68265463e-02, -7.37181443e-02,\n",
       "       -1.67607635e-02, -7.93905254e-03, -4.20015715e-03, -5.43074707e-03,\n",
       "       -2.34811028e-02, -2.19827076e-02, -3.35552496e-02,  7.78961414e-03,\n",
       "        8.54250752e-04,  2.70223285e-02,  1.30568092e+00, -1.12723869e-01,\n",
       "       -2.84572863e-02,  7.54180049e-05, -2.73666779e-03,  1.41941655e+00,\n",
       "       -5.37538854e-02,  2.89941485e-03, -5.01697172e-02,  4.24354920e-01,\n",
       "       -2.84373170e-01, -6.03198076e-01,  3.32424448e+00, -8.75263967e-04,\n",
       "       -9.47813164e-03, -1.09034319e-02,  3.45642096e+00, -5.68957469e-02,\n",
       "       -1.28880277e-01, -7.95876059e-01, -8.51284225e-03, -5.88424594e-03,\n",
       "       -1.99493119e-01,  7.18425553e-01, -2.27627308e+00, -2.73640546e+00,\n",
       "       -3.64265405e-02, -4.36674077e-01, -9.39544176e-01, -1.17111568e-01,\n",
       "       -5.46094299e-02, -5.32303635e-02, -5.71890741e-03, -6.36455741e-03,\n",
       "       -3.21805213e-03, -2.97247754e-01, -1.07677280e-02, -6.45107773e-02,\n",
       "        1.31526873e+00,  1.76980088e+00, -1.46581322e-01, -1.92517977e-01,\n",
       "       -6.39956245e-02,  9.48843735e-01, -1.64148714e+00, -1.36096264e+00,\n",
       "       -3.08360010e-01,  5.42381084e-01, -2.52139925e-01, -2.54911803e-01,\n",
       "        2.78552735e-01,  4.59670296e-02,  2.61221975e-02,  3.87377523e-02,\n",
       "        2.03438345e-01, -7.90370950e-02, -1.33625070e-01, -2.27619568e-03,\n",
       "        1.89311708e-01, -1.97415240e-02, -2.54773480e-02,  1.12135687e+00,\n",
       "       -4.16249540e-04,  1.41217786e+00,  2.17910783e+00,  3.59042781e-01,\n",
       "       -4.61120663e-02, -5.69054903e-01, -1.82922136e-03, -5.38276417e-01,\n",
       "       -7.86430306e-02,  1.50442896e+00, -1.46548008e-02, -8.30274336e-02,\n",
       "       -1.99719599e-02,  4.72680647e-06,  6.17442016e-02,  6.64035211e-05,\n",
       "       -5.94366962e-01, -1.37942570e-01,  1.05139233e+00,  1.66998455e-01,\n",
       "        2.46754287e-01,  2.82851741e-02, -2.04281183e-04, -7.46521669e-03,\n",
       "       -5.58713715e-01, -1.07187991e-02, -6.43777813e-02, -8.86523389e-01,\n",
       "        9.82267263e-02,  1.70420516e-03, -3.76934281e-02, -3.34279826e-02,\n",
       "       -1.71034639e-02, -3.65289058e-01, -6.21245443e-02, -6.07313499e-04,\n",
       "       -3.83805815e-01, -2.41834722e-02, -6.74328968e-02, -1.05144344e+00,\n",
       "       -1.82615089e-01, -1.45237498e-01,  5.97632042e-01,  3.03290339e-01,\n",
       "       -1.03612692e+00,  2.65162699e-02, -2.36624932e-02, -1.68996388e-04,\n",
       "       -1.95341578e+00, -1.63351789e+00,  3.01282109e-01, -7.69541231e-01,\n",
       "       -7.34242388e-01, -4.94523224e-03, -1.54162625e-01, -9.00222236e-01,\n",
       "        6.20825014e-01,  9.00544740e-01, -6.94149173e-01, -4.51642679e-01,\n",
       "        9.97468280e-01,  2.40312362e-02, -2.10759850e-01, -2.43123847e+00,\n",
       "        2.38702707e-03,  1.62558869e+00,  7.76945989e-01,  8.20472281e-01,\n",
       "       -1.02989659e+00,  2.86967621e-01,  7.85385186e-02,  2.61965172e-01,\n",
       "        1.34426705e-02,  6.54978167e-03, -2.33128045e-01, -6.36694271e-01,\n",
       "        3.39493671e-01,  1.05196928e+00, -1.34026946e-02,  6.86232325e-03,\n",
       "        5.28351017e-01, -1.12332844e+00,  2.10337836e-01,  6.77180406e-04,\n",
       "        6.55552118e-04, -6.79571940e-02, -1.07299613e-02, -2.97688430e-01,\n",
       "       -3.49185711e-01, -1.52173571e-01,  1.21959066e-01,  5.09510654e-02,\n",
       "        1.34507725e-02, -1.76061653e-02, -2.66220799e-01, -3.45101870e-01,\n",
       "       -5.84319067e-02, -2.89408085e-02,  4.74785852e-01, -7.18103165e-01,\n",
       "       -1.17511781e-01, -5.21097169e-02, -5.28266024e-01,  5.35771472e-01,\n",
       "        8.09427097e-01, -2.02086938e-04,  3.56205996e-04, -2.87677384e-01,\n",
       "       -2.92513289e-01, -7.80906930e-01, -1.79446860e-02, -6.18740566e-01,\n",
       "       -4.57814569e-01,  5.02872819e-01, -2.36107455e-01, -6.27598931e-01,\n",
       "        5.46997905e-02,  1.00339531e-02,  2.28451082e-01, -6.26764876e-01,\n",
       "       -1.46756831e-03, -4.46992105e-02, -2.32919529e-01, -7.32363297e-03,\n",
       "       -1.11644346e-01, -2.77654772e-02, -1.10867190e-01, -1.40153691e-01,\n",
       "        4.90966934e-01, -4.68161876e-01, -5.14196549e-01, -1.73124393e-01,\n",
       "       -1.44310442e-01, -2.23315965e-01, -5.34668670e-01, -9.88116658e-02,\n",
       "       -2.73902001e-04,  7.38550044e-01, -1.24273353e-01,  3.40854017e-04,\n",
       "       -8.58800416e-02, -1.68529358e-01,  2.88783591e-01,  1.94845062e-01,\n",
       "       -3.99001867e-01, -9.39655036e-01,  3.50236079e-01,  3.52077855e-01,\n",
       "        4.50015656e-03, -2.94733579e-02, -5.52698185e-03, -1.28746685e-01,\n",
       "        6.42095239e-01,  5.88593562e-02, -1.18733839e+00, -2.89707327e-02,\n",
       "       -3.04305360e-01, -8.79066312e-03,  9.64590563e-02, -1.47382288e-02,\n",
       "       -5.59289846e-03, -8.49608476e-04, -6.51333124e-02, -7.37828321e-02,\n",
       "       -1.49200678e-01, -4.92894030e-01,  7.24898001e-03, -5.60864194e-04,\n",
       "        7.90714986e-01, -1.56980897e-02, -3.44491645e-03,  1.08109797e+00,\n",
       "        1.64390214e+00,  9.92577236e-02,  1.09727868e-02, -8.25546891e-02,\n",
       "        1.77471322e+00,  2.38970012e-01,  2.39225740e-02,  1.07896139e+00,\n",
       "        2.03283381e-04,  3.80075323e-02,  2.09037889e-04,  2.04646129e-04,\n",
       "        1.71315928e+00, -1.85471299e-01, -7.54331806e-01,  4.98413204e-01,\n",
       "       -9.88894035e-01,  5.74522034e-01, -1.99391923e-01,  1.29701548e-04,\n",
       "       -6.96794440e-02, -5.56764722e-03, -3.59454220e-02, -1.03290747e-03,\n",
       "       -2.03252064e-01, -2.43914039e-03,  3.97543433e-01, -1.24334521e+00,\n",
       "       -3.07237808e-01, -3.38186014e-02, -1.00010015e-02, -4.36736253e-02,\n",
       "       -3.65579057e-02, -1.12983835e+00, -4.21086357e-01, -9.36460082e-01,\n",
       "       -6.67098260e-03, -1.10430308e+00,  4.86282334e-04, -1.23945078e-02,\n",
       "       -2.43461758e-02, -3.60344573e-03, -1.97727069e-01, -5.00956068e-04,\n",
       "       -2.25062379e-04, -7.28348010e-02, -5.19140282e-03, -1.39698880e-03,\n",
       "        3.25063673e+00, -1.36478289e-03, -4.25134115e-02, -6.19636577e-03,\n",
       "       -1.72362759e-01, -3.99245878e-02, -1.63220881e-01,  3.14274714e-03,\n",
       "        1.17565980e+00,  1.47717217e+00,  4.19964208e-04, -1.80905426e+00,\n",
       "       -7.26751524e-01,  1.94438860e+00, -4.41826581e-03, -8.10430904e-04,\n",
       "       -2.07944349e+00,  2.39547826e-01, -6.76270161e-03,  1.72073010e-01,\n",
       "       -2.48901994e-02, -1.28394763e-01, -2.55585076e-02, -4.84482250e-02,\n",
       "       -1.69125214e-01,  1.93910282e+00, -5.28392065e-05, -5.12658532e-01,\n",
       "       -7.44389176e-02, -3.26585408e-01, -1.76681443e-01, -1.70840451e-01,\n",
       "       -1.59268343e-02, -3.26956664e-01,  5.36203827e-01,  7.40526874e-01,\n",
       "       -1.87666217e-03, -5.19855807e-01, -1.62377182e-01,  1.73236582e-01,\n",
       "        1.57233831e+00,  3.95724259e-02,  2.78022229e-02,  5.52137373e-03,\n",
       "       -1.74294296e-03, -9.89549407e-03, -8.18536258e-05, -1.62641692e-02,\n",
       "       -3.29152891e-02, -6.51423837e-02, -6.06485095e-03, -1.87070221e-02,\n",
       "       -9.07884797e-02, -3.25037044e-03, -5.22203472e-04, -1.63804358e-03,\n",
       "       -6.68225610e-04,  4.92666096e-01, -1.65005190e+00, -6.45313552e-01,\n",
       "        2.18740578e-01,  6.51783064e-01,  7.38810516e-01,  4.67921297e-01,\n",
       "        2.67878351e+00,  6.66673636e-01,  1.31967518e+00,  6.12014269e-02,\n",
       "       -4.05599905e-01, -2.36836868e+00,  4.83153980e-01,  2.08726401e+00,\n",
       "        5.22522246e-01,  8.40867958e-02,  1.58776018e-01,  5.90674686e-01,\n",
       "        2.26351964e+00, -1.68544025e-02,  1.76854712e-02, -4.67728230e-03,\n",
       "       -2.78952650e-03, -3.84888367e-01,  1.15506796e+00, -2.55719260e-01,\n",
       "       -4.96744066e-01,  1.09812501e+00,  6.49256163e-01, -2.34783210e+00,\n",
       "        1.30415591e+00,  8.36865256e-01,  2.04699379e-02,  3.81927926e-03,\n",
       "        5.24157919e-05, -3.67098993e-02, -7.63322186e-01, -9.32863898e-01,\n",
       "        8.10339791e-01,  4.03087680e-01,  1.94580191e-01, -3.86259130e-02,\n",
       "       -5.98239475e-02, -1.47873381e-02, -8.92772332e-02, -1.13557752e+00,\n",
       "       -1.16013007e-02, -4.26262178e-04, -5.45571781e-03, -1.30894773e+00,\n",
       "       -5.37951533e-03, -4.08140641e-04, -1.94331464e-02,  2.62751781e-01,\n",
       "        2.08323118e+00,  1.96138049e-01, -1.38056954e-02,  1.81077756e-02,\n",
       "        7.62714395e-04, -2.83770625e-02, -7.80713607e-01, -1.67561892e-02,\n",
       "       -4.49665924e-02, -3.90098907e-03,  4.56363272e-05,  1.63928330e-01,\n",
       "       -2.96424725e-02, -5.94427544e-02, -4.55590427e-01, -2.27835283e-01,\n",
       "       -4.01860688e-02, -2.59023241e-02, -2.86411620e-01, -1.05453932e-02,\n",
       "       -1.87687664e-02, -1.16028012e-03, -1.24220883e-02,  1.50546073e-02,\n",
       "       -2.77146817e-01,  1.59217543e-01,  2.88051540e-01, -4.12162919e-01,\n",
       "        1.98100620e-01,  5.05095621e-03, -4.57358410e-01,  5.84342104e-01,\n",
       "        4.18619743e-03, -2.74363286e-01,  1.82664155e-04,  6.12496295e-01,\n",
       "        1.21646293e-01, -2.91131000e-01, -8.01296724e-01,  1.31676108e-01,\n",
       "        4.14237000e-02,  8.82755870e-03,  9.44108744e-01,  2.91663235e-05,\n",
       "        3.00825417e-04,  1.04978219e-04,  1.06147016e-04, -7.32520197e-02,\n",
       "        3.69281623e-02,  2.94248895e-03, -1.16426344e+00,  4.53923932e-01,\n",
       "        2.25671004e-03, -2.94420419e-02, -2.79814156e-02, -1.30461649e-02,\n",
       "       -1.75207651e-02, -1.77341806e-04, -7.89966374e-01, -3.11555145e-01,\n",
       "       -7.48000687e-01, -2.96614563e-01, -8.98967289e-04, -3.63402247e-01,\n",
       "       -6.40593512e-02, -5.07092937e-02, -3.73448044e-03,  1.09918146e+00,\n",
       "        6.68700794e-01, -1.91363205e-03,  3.90010083e-02,  1.27337918e-04,\n",
       "       -7.55766567e-03,  8.18568248e-01,  1.50805770e+00, -9.32385798e-01,\n",
       "        1.03907723e+00, -6.57936874e-01, -8.02944495e-02, -7.34806026e-03,\n",
       "       -1.03089156e-03, -8.56138044e-02,  7.71702985e-01,  1.59427889e+00,\n",
       "       -6.81318158e-01,  1.85967008e+00, -2.03854545e-02, -1.68108991e-01,\n",
       "       -2.71740820e-01, -8.25575333e-02, -3.03435613e-02, -4.19097441e-03,\n",
       "       -5.59032569e-01, -1.83769498e-02, -4.31221498e-02, -3.32182885e-03,\n",
       "       -1.79784856e+00, -1.86492153e-02, -2.10075767e-04, -3.52276624e-01,\n",
       "       -9.51108505e-03,  7.02417642e-02, -3.56434397e-03, -5.77175744e-02,\n",
       "       -1.34611289e-02,  1.30020650e+00, -3.24153340e-03, -2.53067487e-03,\n",
       "       -7.46237672e-04, -6.42262297e-03, -6.78841388e-04, -1.79324848e-02,\n",
       "       -5.69423163e-03,  3.49233882e-02, -4.74243791e-01, -1.07837112e+00,\n",
       "       -4.24112534e-01,  3.79324817e-01,  1.57328604e-01, -8.38835508e-01,\n",
       "        1.90672087e+00,  1.15515768e+00, -8.68010086e-02, -8.44407717e-01,\n",
       "       -3.25919799e-01, -1.16336583e-03, -1.18935680e-03, -4.04803592e-01,\n",
       "       -2.75646015e-01, -1.04509984e+00, -6.93755123e-03, -4.86010023e-01,\n",
       "       -1.36644862e+00, -1.01527578e-02, -1.76379718e-01,  3.32372975e+00,\n",
       "        2.15180734e-02,  2.57730752e+00, -7.22573582e-02, -2.18038803e-02,\n",
       "       -3.38522962e+00, -9.03140021e-01, -1.62903712e-02, -9.07431497e-02,\n",
       "        1.64981051e+00,  3.59462033e-01, -6.26971442e-02, -2.07981938e-01,\n",
       "       -4.28852233e-01, -6.03257769e-02, -5.40473771e-03, -8.96497562e-02,\n",
       "       -1.03021375e+00, -2.28729051e-01, -3.14998272e-01,  3.11779494e-02,\n",
       "        1.24228336e-02,  9.91433046e-04, -1.18486904e-01, -5.92152202e-01,\n",
       "       -5.44550413e-01,  1.68937545e+00, -1.88491768e-01,  4.94247576e-01,\n",
       "       -7.13440135e-04, -1.07306236e-03, -5.82032723e-03,  1.36058881e-03,\n",
       "       -4.67377061e-04, -3.90726440e-02, -4.68631593e-02, -1.02313869e+00,\n",
       "       -3.66324226e-01, -3.40529466e-01, -1.03648119e-02, -1.47065286e-02,\n",
       "       -5.29346953e-03,  3.30036316e-08, -3.05872133e-03, -2.58086625e-02,\n",
       "        1.44499182e-02,  9.65661296e-04, -1.47313548e-02, -4.51813780e-02,\n",
       "       -5.67819656e-01, -7.73689927e-02, -1.16207008e-02,  7.88655877e-05,\n",
       "       -7.16270417e-04, -2.08691492e+00, -1.50075830e-01,  6.29191093e-01,\n",
       "        4.19615227e-01,  4.51012695e-05,  1.81679260e-01,  2.23449416e-05,\n",
       "       -5.72202937e-02,  2.70299325e-01,  7.18649077e-01,  1.42172156e+00,\n",
       "       -3.52814669e-03, -1.32539164e-02, -1.38780483e-01, -1.19694681e+00,\n",
       "        1.47139007e-01,  2.02632897e-03, -9.19165468e-04,  8.01446636e-02,\n",
       "        9.85943514e-01, -4.29886020e-02, -7.53063156e-01, -8.37338342e-03,\n",
       "       -8.26167820e-04,  8.42823709e-01, -7.12287747e-02,  9.93897168e-01,\n",
       "        1.06972260e+00, -9.29235947e-01,  3.13281066e-01,  3.79739023e-01,\n",
       "        1.76227012e-02,  1.92124067e+00,  1.47107358e+00, -1.18969530e-01,\n",
       "       -1.26754734e+00, -2.26550998e-01,  5.49360322e-03, -6.44771484e-03,\n",
       "       -2.80029798e-03, -4.80486390e-02, -3.51368665e-03, -3.05919618e-02,\n",
       "       -5.83499329e-03,  2.99756335e-02, -4.19238308e-02,  5.29079002e-01,\n",
       "       -7.85726919e-01, -9.15965845e-02, -1.73383074e+00,  3.17444729e-01,\n",
       "       -1.18613084e+00,  1.19995843e+00, -1.79807788e-01, -4.79385727e-01,\n",
       "        1.97906528e+00,  1.47137709e+00, -2.02096200e-01,  3.76036053e-01,\n",
       "       -1.02743284e+00,  1.09481639e+00,  2.06486732e-01, -3.05361866e+00,\n",
       "        4.75199254e-01,  3.81726128e-01, -5.85035564e-03])"
      ]
     },
     "execution_count": 636,
     "metadata": {},
     "output_type": "execute_result"
    }
   ],
   "source": [
    "model.coef_[0]"
   ]
  },
  {
   "cell_type": "code",
   "execution_count": 637,
   "id": "b4b56995",
   "metadata": {},
   "outputs": [
    {
     "data": {
      "text/plain": [
       "array([0, 0, 1, ..., 0, 0, 0])"
      ]
     },
     "execution_count": 637,
     "metadata": {},
     "output_type": "execute_result"
    }
   ],
   "source": [
    "# hard prediction\n",
    "model.predict(X_train)"
   ]
  },
  {
   "cell_type": "code",
   "execution_count": 638,
   "id": "6d824a9c",
   "metadata": {},
   "outputs": [
    {
     "data": {
      "text/plain": [
       "array([[9.89321040e-01, 1.06789599e-02],\n",
       "       [9.57872508e-01, 4.21274917e-02],\n",
       "       [6.47335952e-05, 9.99935266e-01],\n",
       "       ...,\n",
       "       [9.81311814e-01, 1.86881860e-02],\n",
       "       [9.99976106e-01, 2.38942282e-05],\n",
       "       [6.38045123e-01, 3.61954877e-01]])"
      ]
     },
     "execution_count": 638,
     "metadata": {},
     "output_type": "execute_result"
    }
   ],
   "source": [
    "# Soft Prediction\n",
    "model.predict_proba(X_train)"
   ]
  },
  {
   "cell_type": "code",
   "execution_count": 639,
   "id": "51f09a10",
   "metadata": {
    "scrolled": true
   },
   "outputs": [
    {
     "data": {
      "text/plain": [
       "array([[2.300e+01, 4.000e+00, 2.100e+02, ..., 0.000e+00, 0.000e+00,\n",
       "        2.015e+03],\n",
       "       [1.700e+01, 6.000e+00, 3.540e+02, ..., 0.000e+00, 0.000e+00,\n",
       "        2.015e+03],\n",
       "       [2.200e+01, 4.000e+00, 1.400e+02, ..., 1.000e+00, 0.000e+00,\n",
       "        2.005e+03],\n",
       "       ...,\n",
       "       [1.200e+01, 6.000e+00, 1.900e+02, ..., 0.000e+00, 0.000e+00,\n",
       "        2.003e+03],\n",
       "       [1.400e+01, 8.000e+00, 4.300e+02, ..., 0.000e+00, 0.000e+00,\n",
       "        2.015e+03],\n",
       "       [1.800e+01, 6.000e+00, 3.210e+02, ..., 1.000e+00, 0.000e+00,\n",
       "        2.015e+03]])"
      ]
     },
     "execution_count": 639,
     "metadata": {},
     "output_type": "execute_result"
    }
   ],
   "source": [
    "# Use trained model on validation dataset\n",
    "val_dicts = df_val[categorical + numerical].to_dict(orient='records')\n",
    "X_val = dv.transform(val_dicts)\n",
    "X_val"
   ]
  },
  {
   "cell_type": "code",
   "execution_count": 640,
   "id": "f5957599",
   "metadata": {},
   "outputs": [
    {
     "data": {
      "text/plain": [
       "array([0, 1, 0, ..., 0, 1, 1])"
      ]
     },
     "execution_count": 640,
     "metadata": {},
     "output_type": "execute_result"
    }
   ],
   "source": [
    "y_pred = model.predict(X_val)\n",
    "y_pred"
   ]
  },
  {
   "cell_type": "code",
   "execution_count": 641,
   "id": "70e1f996",
   "metadata": {},
   "outputs": [
    {
     "data": {
      "text/plain": [
       "array([0, 1, 0, ..., 0, 1, 1])"
      ]
     },
     "execution_count": 641,
     "metadata": {},
     "output_type": "execute_result"
    }
   ],
   "source": [
    "y_val"
   ]
  },
  {
   "cell_type": "code",
   "execution_count": 642,
   "id": "25c536a8",
   "metadata": {},
   "outputs": [
    {
     "data": {
      "text/plain": [
       "array([ True,  True,  True, ...,  True,  True,  True])"
      ]
     },
     "execution_count": 642,
     "metadata": {},
     "output_type": "execute_result"
    }
   ],
   "source": [
    "(y_val == y_pred)"
   ]
  },
  {
   "cell_type": "code",
   "execution_count": 643,
   "id": "f3454e48",
   "metadata": {},
   "outputs": [
    {
     "data": {
      "text/plain": [
       "0.95"
      ]
     },
     "execution_count": 643,
     "metadata": {},
     "output_type": "execute_result"
    }
   ],
   "source": [
    "accuracy = (y_val == y_pred).mean().round(2)\n",
    "accuracy"
   ]
  },
  {
   "cell_type": "markdown",
   "id": "3501dadc",
   "metadata": {},
   "source": [
    "0.95 accuracy!"
   ]
  },
  {
   "cell_type": "markdown",
   "id": "58a2e3c4",
   "metadata": {},
   "source": [
    "## Question 5:\n",
    "- Let's find the least useful feature using the feature elimination technique.\n",
    "- Train a model with all these features (using the same parameters as in Q4).\n",
    "- Now exclude each feature from this set and train a model without it. Record the accuracy for each model.\n",
    "- For each feature, calculate the difference between the original accuracy and the accuracy without the feature."
   ]
  },
  {
   "cell_type": "code",
   "execution_count": 644,
   "id": "e9aa3292",
   "metadata": {},
   "outputs": [
    {
     "data": {
      "text/plain": [
       "['make',\n",
       " 'model',\n",
       " 'transmission_type',\n",
       " 'vehicle_style',\n",
       " 'year',\n",
       " 'engine_hp',\n",
       " 'engine_cylinders',\n",
       " 'highway_mpg',\n",
       " 'city_mpg']"
      ]
     },
     "execution_count": 644,
     "metadata": {},
     "output_type": "execute_result"
    }
   ],
   "source": [
    "features = categorical + numerical\n",
    "features"
   ]
  },
  {
   "cell_type": "code",
   "execution_count": 645,
   "id": "9bfef704",
   "metadata": {},
   "outputs": [
    {
     "name": "stdout",
     "output_type": "stream",
     "text": [
      "with features: ['make']\n",
      "  accuracy is: 0.86\n",
      " Difference: 0.09\n",
      "\n",
      "with features: ['make', 'model']\n",
      "  accuracy is: 0.92\n",
      " Difference: 0.03\n",
      "\n",
      "with features: ['make', 'model', 'transmission_type']\n",
      "  accuracy is: 0.92\n",
      " Difference: 0.03\n",
      "\n",
      "with features: ['make', 'model', 'transmission_type', 'vehicle_style']\n",
      "  accuracy is: 0.93\n",
      " Difference: 0.02\n",
      "\n",
      "with features: ['make', 'model', 'transmission_type', 'vehicle_style', 'year']\n",
      "  accuracy is: 0.9\n",
      " Difference: 0.05\n",
      "\n",
      "with features: ['make', 'model', 'transmission_type', 'vehicle_style', 'year', 'engine_hp']\n",
      "  accuracy is: 0.94\n",
      " Difference: 0.01\n",
      "\n",
      "with features: ['make', 'model', 'transmission_type', 'vehicle_style', 'year', 'engine_hp', 'engine_cylinders']\n",
      "  accuracy is: 0.92\n",
      " Difference: 0.03\n",
      "\n",
      "with features: ['make', 'model', 'transmission_type', 'vehicle_style', 'year', 'engine_hp', 'engine_cylinders', 'highway_mpg']\n",
      "  accuracy is: 0.93\n",
      " Difference: 0.02\n",
      "\n",
      "with features: ['make', 'model', 'transmission_type', 'vehicle_style', 'year', 'engine_hp', 'engine_cylinders', 'highway_mpg', 'city_mpg']\n",
      "  accuracy is: 0.95\n",
      " Difference: 0.0\n",
      "\n"
     ]
    }
   ],
   "source": [
    "new_feat = []\n",
    "for i in features:\n",
    "    new_feat.append(i)\n",
    "    \n",
    "    train_set = df_train[new_feat].to_dict(orient='records')\n",
    "\n",
    "    #   Fit the model on training dataset\n",
    "    dv = DictVectorizer(sparse=False)\n",
    "    dv.fit(train_set)\n",
    "    \n",
    "    X_train = dv.transform(train_set)\n",
    "    \n",
    "#   Train model with features\n",
    "    model = LogisticRegression(solver='liblinear', C=10, max_iter=1000, random_state=42)\n",
    "    model.fit(X_train, y_train)\n",
    "    \n",
    "    model.predict(X_train)\n",
    "    \n",
    "#     print('with features: {0}\\n {1}\\n'.format(new_feat, model.predict(X_train)[:15]))\n",
    "\n",
    "#   Use trained model on validation dataset\n",
    "    val_set = df_val[new_feat].to_dict(orient='records')\n",
    "    X_val = dv.transform(val_set)\n",
    "    \n",
    "    predict = model.predict(X_val)\n",
    "    \n",
    "    acc = ((y_val == predict).mean().round(2))\n",
    "    \n",
    "    print('with features: {0}\\n  accuracy is: {1}\\n Difference: {2}\\n'.format(new_feat, acc, (accuracy-acc).round(2)))"
   ]
  },
  {
   "cell_type": "code",
   "execution_count": 650,
   "id": "017f722b",
   "metadata": {},
   "outputs": [],
   "source": [
    "def log_reg(feats):\n",
    "    train_set = df_train[feats].to_dict(orient='records')\n",
    "\n",
    "    #   Fit the model on training dataset\n",
    "    dv = DictVectorizer(sparse=False)\n",
    "    dv.fit(train_set)\n",
    "    \n",
    "    X_train = dv.transform(train_set)\n",
    "    \n",
    "#   Train model with features\n",
    "    model = LogisticRegression(solver='liblinear', C=10, max_iter=1000, random_state=42)\n",
    "    model.fit(X_train, y_train)\n",
    "    \n",
    "    model.predict(X_train)   \n",
    "\n",
    "#   Use trained model on validation dataset\n",
    "    val_set = df_val[feats].to_dict(orient='records')\n",
    "    X_val = dv.transform(val_set)\n",
    "    \n",
    "    predict = model.predict(X_val)\n",
    "    \n",
    "    acc = ((y_val == predict).mean().round(6))\n",
    "    \n",
    "    return(acc)"
   ]
  },
  {
   "cell_type": "code",
   "execution_count": 651,
   "id": "2422fe9b",
   "metadata": {},
   "outputs": [],
   "source": [
    "features = categorical + numerical"
   ]
  },
  {
   "cell_type": "code",
   "execution_count": 652,
   "id": "bab02cdb",
   "metadata": {},
   "outputs": [
    {
     "name": "stdout",
     "output_type": "stream",
     "text": [
      "0.947125\n"
     ]
    }
   ],
   "source": [
    "original_acc = log_reg(features)\n",
    "print(original_acc)"
   ]
  },
  {
   "cell_type": "code",
   "execution_count": 654,
   "id": "7a754f00",
   "metadata": {},
   "outputs": [
    {
     "name": "stdout",
     "output_type": "stream",
     "text": [
      "Accuracy with \"make\" out:\n",
      "0.947545\n",
      "Difference: -0.00042\n",
      "\n",
      "Accuracy with \"model\" out:\n",
      "0.920269\n",
      "Difference: 0.026856\n",
      "\n",
      "Accuracy with \"transmission_type\" out:\n",
      "0.945867\n",
      "Difference: 0.001258\n",
      "\n",
      "Accuracy with \"vehicle_style\" out:\n",
      "0.932018\n",
      "Difference: 0.015107\n",
      "\n",
      "Accuracy with \"year\" out:\n",
      "0.948384\n",
      "Difference: -0.001259\n",
      "\n",
      "Accuracy with \"engine_hp\" out:\n",
      "0.924885\n",
      "Difference: 0.02224\n",
      "\n",
      "Accuracy with \"engine_cylinders\" out:\n",
      "0.947125\n",
      "Difference: 0.0\n",
      "\n",
      "Accuracy with \"highway_mpg\" out:\n",
      "0.944188\n",
      "Difference: 0.002937\n",
      "\n",
      "Accuracy with \"city_mpg\" out:\n",
      "0.932438\n",
      "Difference: 0.014687\n",
      "\n"
     ]
    }
   ],
   "source": [
    "for i in range(9):\n",
    "    features = categorical + numerical\n",
    "    print('Accuracy with \"{0}\" out:'.format(features[i]))\n",
    "    del features[i]\n",
    "    acc = log_reg(features)\n",
    "    print(acc)\n",
    "    print('Difference: {0}\\n'.format((original_acc - acc).round(6)))\n",
    "#     print(features)\n",
    "#     print(len(features))"
   ]
  },
  {
   "cell_type": "markdown",
   "id": "aba4f240",
   "metadata": {},
   "source": [
    "## Question 6:\n",
    "- For this question, we'll see how to use a linear regression model from Scikit-Learn.\n",
    "- We'll need to use the original column price. Apply the logarithmic transformation to this column.\n",
    "- Fit the Ridge regression model on the training data with a solver 'sag'. Set the seed to 42.\n",
    "- This model also has a parameter alpha. Let's try the following values: [0, 0.01, 0.1, 1, 10].\n",
    "- Round your RMSE scores to 3 decimal digits.\n",
    "\n",
    "Which of these alphas leads to the best RMSE on the validation set?\n",
    "- 0\n",
    "- 0.01\n",
    "- 0.1\n",
    "- 1\n",
    "- 10"
   ]
  },
  {
   "cell_type": "code",
   "execution_count": 655,
   "id": "6161539f",
   "metadata": {},
   "outputs": [
    {
     "data": {
      "text/html": [
       "<div>\n",
       "<style scoped>\n",
       "    .dataframe tbody tr th:only-of-type {\n",
       "        vertical-align: middle;\n",
       "    }\n",
       "\n",
       "    .dataframe tbody tr th {\n",
       "        vertical-align: top;\n",
       "    }\n",
       "\n",
       "    .dataframe thead th {\n",
       "        text-align: right;\n",
       "    }\n",
       "</style>\n",
       "<table border=\"1\" class=\"dataframe\">\n",
       "  <thead>\n",
       "    <tr style=\"text-align: right;\">\n",
       "      <th></th>\n",
       "      <th>make</th>\n",
       "      <th>model</th>\n",
       "      <th>year</th>\n",
       "      <th>engine_hp</th>\n",
       "      <th>engine_cylinders</th>\n",
       "      <th>transmission_type</th>\n",
       "      <th>vehicle_style</th>\n",
       "      <th>highway_mpg</th>\n",
       "      <th>city_mpg</th>\n",
       "      <th>price</th>\n",
       "      <th>above_average</th>\n",
       "    </tr>\n",
       "  </thead>\n",
       "  <tbody>\n",
       "    <tr>\n",
       "      <th>0</th>\n",
       "      <td>BMW</td>\n",
       "      <td>1 Series M</td>\n",
       "      <td>2011</td>\n",
       "      <td>335.0</td>\n",
       "      <td>6.0</td>\n",
       "      <td>MANUAL</td>\n",
       "      <td>Coupe</td>\n",
       "      <td>26</td>\n",
       "      <td>19</td>\n",
       "      <td>46135</td>\n",
       "      <td>1</td>\n",
       "    </tr>\n",
       "    <tr>\n",
       "      <th>1</th>\n",
       "      <td>BMW</td>\n",
       "      <td>1 Series</td>\n",
       "      <td>2011</td>\n",
       "      <td>300.0</td>\n",
       "      <td>6.0</td>\n",
       "      <td>MANUAL</td>\n",
       "      <td>Convertible</td>\n",
       "      <td>28</td>\n",
       "      <td>19</td>\n",
       "      <td>40650</td>\n",
       "      <td>1</td>\n",
       "    </tr>\n",
       "    <tr>\n",
       "      <th>2</th>\n",
       "      <td>BMW</td>\n",
       "      <td>1 Series</td>\n",
       "      <td>2011</td>\n",
       "      <td>300.0</td>\n",
       "      <td>6.0</td>\n",
       "      <td>MANUAL</td>\n",
       "      <td>Coupe</td>\n",
       "      <td>28</td>\n",
       "      <td>20</td>\n",
       "      <td>36350</td>\n",
       "      <td>0</td>\n",
       "    </tr>\n",
       "    <tr>\n",
       "      <th>3</th>\n",
       "      <td>BMW</td>\n",
       "      <td>1 Series</td>\n",
       "      <td>2011</td>\n",
       "      <td>230.0</td>\n",
       "      <td>6.0</td>\n",
       "      <td>MANUAL</td>\n",
       "      <td>Coupe</td>\n",
       "      <td>28</td>\n",
       "      <td>18</td>\n",
       "      <td>29450</td>\n",
       "      <td>0</td>\n",
       "    </tr>\n",
       "    <tr>\n",
       "      <th>4</th>\n",
       "      <td>BMW</td>\n",
       "      <td>1 Series</td>\n",
       "      <td>2011</td>\n",
       "      <td>230.0</td>\n",
       "      <td>6.0</td>\n",
       "      <td>MANUAL</td>\n",
       "      <td>Convertible</td>\n",
       "      <td>28</td>\n",
       "      <td>18</td>\n",
       "      <td>34500</td>\n",
       "      <td>0</td>\n",
       "    </tr>\n",
       "  </tbody>\n",
       "</table>\n",
       "</div>"
      ],
      "text/plain": [
       "  make       model  year  engine_hp  engine_cylinders transmission_type  \\\n",
       "0  BMW  1 Series M  2011      335.0               6.0            MANUAL   \n",
       "1  BMW    1 Series  2011      300.0               6.0            MANUAL   \n",
       "2  BMW    1 Series  2011      300.0               6.0            MANUAL   \n",
       "3  BMW    1 Series  2011      230.0               6.0            MANUAL   \n",
       "4  BMW    1 Series  2011      230.0               6.0            MANUAL   \n",
       "\n",
       "  vehicle_style  highway_mpg  city_mpg  price  above_average  \n",
       "0         Coupe           26        19  46135              1  \n",
       "1   Convertible           28        19  40650              1  \n",
       "2         Coupe           28        20  36350              0  \n",
       "3         Coupe           28        18  29450              0  \n",
       "4   Convertible           28        18  34500              0  "
      ]
     },
     "execution_count": 655,
     "metadata": {},
     "output_type": "execute_result"
    }
   ],
   "source": [
    "df_new.head()"
   ]
  },
  {
   "cell_type": "code",
   "execution_count": 656,
   "id": "0d637d8b",
   "metadata": {},
   "outputs": [
    {
     "data": {
      "text/html": [
       "<div>\n",
       "<style scoped>\n",
       "    .dataframe tbody tr th:only-of-type {\n",
       "        vertical-align: middle;\n",
       "    }\n",
       "\n",
       "    .dataframe tbody tr th {\n",
       "        vertical-align: top;\n",
       "    }\n",
       "\n",
       "    .dataframe thead th {\n",
       "        text-align: right;\n",
       "    }\n",
       "</style>\n",
       "<table border=\"1\" class=\"dataframe\">\n",
       "  <thead>\n",
       "    <tr style=\"text-align: right;\">\n",
       "      <th></th>\n",
       "      <th>make</th>\n",
       "      <th>model</th>\n",
       "      <th>year</th>\n",
       "      <th>engine_hp</th>\n",
       "      <th>engine_cylinders</th>\n",
       "      <th>transmission_type</th>\n",
       "      <th>vehicle_style</th>\n",
       "      <th>highway_mpg</th>\n",
       "      <th>city_mpg</th>\n",
       "      <th>price</th>\n",
       "      <th>above_average</th>\n",
       "    </tr>\n",
       "  </thead>\n",
       "  <tbody>\n",
       "    <tr>\n",
       "      <th>0</th>\n",
       "      <td>BMW</td>\n",
       "      <td>1 Series M</td>\n",
       "      <td>2011</td>\n",
       "      <td>335.0</td>\n",
       "      <td>6.0</td>\n",
       "      <td>MANUAL</td>\n",
       "      <td>Coupe</td>\n",
       "      <td>26</td>\n",
       "      <td>19</td>\n",
       "      <td>10.739349</td>\n",
       "      <td>1</td>\n",
       "    </tr>\n",
       "    <tr>\n",
       "      <th>1</th>\n",
       "      <td>BMW</td>\n",
       "      <td>1 Series</td>\n",
       "      <td>2011</td>\n",
       "      <td>300.0</td>\n",
       "      <td>6.0</td>\n",
       "      <td>MANUAL</td>\n",
       "      <td>Convertible</td>\n",
       "      <td>28</td>\n",
       "      <td>19</td>\n",
       "      <td>10.612779</td>\n",
       "      <td>1</td>\n",
       "    </tr>\n",
       "    <tr>\n",
       "      <th>2</th>\n",
       "      <td>BMW</td>\n",
       "      <td>1 Series</td>\n",
       "      <td>2011</td>\n",
       "      <td>300.0</td>\n",
       "      <td>6.0</td>\n",
       "      <td>MANUAL</td>\n",
       "      <td>Coupe</td>\n",
       "      <td>28</td>\n",
       "      <td>20</td>\n",
       "      <td>10.500977</td>\n",
       "      <td>0</td>\n",
       "    </tr>\n",
       "    <tr>\n",
       "      <th>3</th>\n",
       "      <td>BMW</td>\n",
       "      <td>1 Series</td>\n",
       "      <td>2011</td>\n",
       "      <td>230.0</td>\n",
       "      <td>6.0</td>\n",
       "      <td>MANUAL</td>\n",
       "      <td>Coupe</td>\n",
       "      <td>28</td>\n",
       "      <td>18</td>\n",
       "      <td>10.290483</td>\n",
       "      <td>0</td>\n",
       "    </tr>\n",
       "    <tr>\n",
       "      <th>4</th>\n",
       "      <td>BMW</td>\n",
       "      <td>1 Series</td>\n",
       "      <td>2011</td>\n",
       "      <td>230.0</td>\n",
       "      <td>6.0</td>\n",
       "      <td>MANUAL</td>\n",
       "      <td>Convertible</td>\n",
       "      <td>28</td>\n",
       "      <td>18</td>\n",
       "      <td>10.448744</td>\n",
       "      <td>0</td>\n",
       "    </tr>\n",
       "  </tbody>\n",
       "</table>\n",
       "</div>"
      ],
      "text/plain": [
       "  make       model  year  engine_hp  engine_cylinders transmission_type  \\\n",
       "0  BMW  1 Series M  2011      335.0               6.0            MANUAL   \n",
       "1  BMW    1 Series  2011      300.0               6.0            MANUAL   \n",
       "2  BMW    1 Series  2011      300.0               6.0            MANUAL   \n",
       "3  BMW    1 Series  2011      230.0               6.0            MANUAL   \n",
       "4  BMW    1 Series  2011      230.0               6.0            MANUAL   \n",
       "\n",
       "  vehicle_style  highway_mpg  city_mpg      price  above_average  \n",
       "0         Coupe           26        19  10.739349              1  \n",
       "1   Convertible           28        19  10.612779              1  \n",
       "2         Coupe           28        20  10.500977              0  \n",
       "3         Coupe           28        18  10.290483              0  \n",
       "4   Convertible           28        18  10.448744              0  "
      ]
     },
     "execution_count": 656,
     "metadata": {},
     "output_type": "execute_result"
    }
   ],
   "source": [
    "# Apply log transormation\n",
    "df_new.price = np.log1p(df_new.price.values)\n",
    "df_new.head()"
   ]
  },
  {
   "cell_type": "code",
   "execution_count": 657,
   "id": "d676f164",
   "metadata": {},
   "outputs": [],
   "source": [
    "from sklearn.linear_model import Ridge"
   ]
  },
  {
   "cell_type": "code",
   "execution_count": 658,
   "id": "017c1e8d",
   "metadata": {},
   "outputs": [],
   "source": [
    "df_train_full, df_test = train_test_split(df_new, test_size=0.2, random_state=42) "
   ]
  },
  {
   "cell_type": "code",
   "execution_count": 659,
   "id": "5c901158",
   "metadata": {},
   "outputs": [],
   "source": [
    "df_train, df_val = train_test_split(df_train_full, test_size=0.25, random_state=42)"
   ]
  },
  {
   "cell_type": "code",
   "execution_count": 660,
   "id": "ac515ada",
   "metadata": {},
   "outputs": [],
   "source": [
    "# shuffle indices\n",
    "df_train = df_train.reset_index(drop=True)\n",
    "df_val = df_val.reset_index(drop=True)\n",
    "df_test = df_test.reset_index(drop=True)"
   ]
  },
  {
   "cell_type": "code",
   "execution_count": 661,
   "id": "8ef607bd",
   "metadata": {},
   "outputs": [],
   "source": [
    "# Set our target variables (price in this case)\n",
    "y_train = df_train.price.values\n",
    "y_val = df_val.price.values\n",
    "y_test = df_test.price.values"
   ]
  },
  {
   "cell_type": "code",
   "execution_count": 662,
   "id": "6ffc3db0",
   "metadata": {},
   "outputs": [],
   "source": [
    "new_feats = df_new.columns"
   ]
  },
  {
   "cell_type": "code",
   "execution_count": 663,
   "id": "36efe286",
   "metadata": {},
   "outputs": [
    {
     "data": {
      "text/plain": [
       "array([[0.000e+00, 1.500e+01, 6.000e+00, ..., 0.000e+00, 0.000e+00,\n",
       "        2.011e+03],\n",
       "       [0.000e+00, 1.700e+01, 6.000e+00, ..., 0.000e+00, 0.000e+00,\n",
       "        2.009e+03],\n",
       "       [1.000e+00, 1.200e+01, 1.000e+01, ..., 0.000e+00, 0.000e+00,\n",
       "        2.012e+03],\n",
       "       ...,\n",
       "       [0.000e+00, 1.700e+01, 6.000e+00, ..., 0.000e+00, 0.000e+00,\n",
       "        2.012e+03],\n",
       "       [0.000e+00, 1.900e+01, 4.000e+00, ..., 0.000e+00, 0.000e+00,\n",
       "        1.993e+03],\n",
       "       [0.000e+00, 1.700e+01, 6.000e+00, ..., 1.000e+00, 0.000e+00,\n",
       "        2.015e+03]])"
      ]
     },
     "execution_count": 663,
     "metadata": {},
     "output_type": "execute_result"
    }
   ],
   "source": [
    "train_set = df_train[new_feats].to_dict(orient='records')\n",
    "\n",
    "#   Fit the model on training dataset\n",
    "dv = DictVectorizer(sparse=False)\n",
    "dv.fit(train_set)\n",
    "    \n",
    "X_train = dv.transform(train_set)\n",
    "X_train"
   ]
  },
  {
   "cell_type": "code",
   "execution_count": 664,
   "id": "975a2981",
   "metadata": {},
   "outputs": [
    {
     "data": {
      "text/plain": [
       "array([10.42228135, 10.17526888, 12.42118806, ..., 10.25224121,\n",
       "        7.60140233, 10.60214453])"
      ]
     },
     "execution_count": 664,
     "metadata": {},
     "output_type": "execute_result"
    }
   ],
   "source": [
    "y_train"
   ]
  },
  {
   "cell_type": "code",
   "execution_count": 665,
   "id": "822c1106",
   "metadata": {},
   "outputs": [],
   "source": [
    "# define rmse functin\n",
    "def rmse(y, y_pred):\n",
    "    error = y_pred - y\n",
    "    mse = (error ** 2).mean()\n",
    "    return np.sqrt(mse)"
   ]
  },
  {
   "cell_type": "code",
   "execution_count": 666,
   "id": "402a2409",
   "metadata": {},
   "outputs": [],
   "source": [
    "alphas = [0, 0.01, 0.1, 1, 10]"
   ]
  },
  {
   "cell_type": "code",
   "execution_count": 667,
   "id": "bb7af719",
   "metadata": {},
   "outputs": [
    {
     "name": "stderr",
     "output_type": "stream",
     "text": [
      "C:\\Users\\ADMIN\\anaconda3\\lib\\site-packages\\sklearn\\linear_model\\_sag.py:350: ConvergenceWarning: The max_iter was reached which means the coef_ did not converge\n",
      "  warnings.warn(\n"
     ]
    },
    {
     "data": {
      "text/plain": [
       "array([10.24864769, 11.02132209,  9.87811981, ...,  9.9169917 ,\n",
       "       11.7683166 , 10.89407268])"
      ]
     },
     "execution_count": 667,
     "metadata": {},
     "output_type": "execute_result"
    }
   ],
   "source": [
    "model = Ridge(solver='sag', alpha = 0, random_state=42)\n",
    "model.fit(X_train, y_train)\n",
    "\n",
    "model.predict(X_train)   \n",
    "\n",
    "#   Use trained model on validation dataset\n",
    "val_set = df_val[new_feats].to_dict(orient='records')\n",
    "X_val = dv.transform(val_set)\n",
    "    \n",
    "y_pred = model.predict(X_val)\n",
    "y_pred "
   ]
  },
  {
   "cell_type": "code",
   "execution_count": 668,
   "id": "1366ba5d",
   "metadata": {},
   "outputs": [
    {
     "data": {
      "text/plain": [
       "0.03378039425719436"
      ]
     },
     "execution_count": 668,
     "metadata": {},
     "output_type": "execute_result"
    }
   ],
   "source": [
    "rmse(y_val, y_pred)"
   ]
  },
  {
   "cell_type": "code",
   "execution_count": 669,
   "id": "58f378e6",
   "metadata": {},
   "outputs": [
    {
     "name": "stderr",
     "output_type": "stream",
     "text": [
      "C:\\Users\\ADMIN\\anaconda3\\lib\\site-packages\\sklearn\\linear_model\\_sag.py:350: ConvergenceWarning: The max_iter was reached which means the coef_ did not converge\n",
      "  warnings.warn(\n"
     ]
    },
    {
     "name": "stdout",
     "output_type": "stream",
     "text": [
      "RMSE with alpha 0:\n",
      " 0.03378039425719436\n"
     ]
    },
    {
     "name": "stderr",
     "output_type": "stream",
     "text": [
      "C:\\Users\\ADMIN\\anaconda3\\lib\\site-packages\\sklearn\\linear_model\\_sag.py:350: ConvergenceWarning: The max_iter was reached which means the coef_ did not converge\n",
      "  warnings.warn(\n"
     ]
    },
    {
     "name": "stdout",
     "output_type": "stream",
     "text": [
      "RMSE with alpha 0.01:\n",
      " 0.033781720212342534\n"
     ]
    },
    {
     "name": "stderr",
     "output_type": "stream",
     "text": [
      "C:\\Users\\ADMIN\\anaconda3\\lib\\site-packages\\sklearn\\linear_model\\_sag.py:350: ConvergenceWarning: The max_iter was reached which means the coef_ did not converge\n",
      "  warnings.warn(\n"
     ]
    },
    {
     "name": "stdout",
     "output_type": "stream",
     "text": [
      "RMSE with alpha 0.1:\n",
      " 0.033793657608226814\n"
     ]
    },
    {
     "name": "stderr",
     "output_type": "stream",
     "text": [
      "C:\\Users\\ADMIN\\anaconda3\\lib\\site-packages\\sklearn\\linear_model\\_sag.py:350: ConvergenceWarning: The max_iter was reached which means the coef_ did not converge\n",
      "  warnings.warn(\n"
     ]
    },
    {
     "name": "stdout",
     "output_type": "stream",
     "text": [
      "RMSE with alpha 1:\n",
      " 0.03391339954053769\n",
      "RMSE with alpha 10:\n",
      " 0.03514574950716563\n"
     ]
    },
    {
     "name": "stderr",
     "output_type": "stream",
     "text": [
      "C:\\Users\\ADMIN\\anaconda3\\lib\\site-packages\\sklearn\\linear_model\\_sag.py:350: ConvergenceWarning: The max_iter was reached which means the coef_ did not converge\n",
      "  warnings.warn(\n"
     ]
    }
   ],
   "source": [
    "# Iterate through the various alphas\n",
    "for i in alphas:\n",
    "    model = Ridge(solver='sag', alpha = i, random_state=42)\n",
    "    model.fit(X_train, y_train)\n",
    "\n",
    "    model.predict(X_train)   \n",
    "\n",
    "    #   Use trained model on validation dataset\n",
    "    val_set = df_val[new_feats].to_dict(orient='records')\n",
    "    X_val = dv.transform(val_set)\n",
    "\n",
    "    y_pred = model.predict(X_val)\n",
    "    \n",
    "    print('RMSE with alpha {0}:\\n {1}'.format(i, rmse(y_val, y_pred)))"
   ]
  },
  {
   "cell_type": "code",
   "execution_count": null,
   "id": "018736f7",
   "metadata": {},
   "outputs": [],
   "source": []
  }
 ],
 "metadata": {
  "kernelspec": {
   "display_name": "Python 3 (ipykernel)",
   "language": "python",
   "name": "python3"
  },
  "language_info": {
   "codemirror_mode": {
    "name": "ipython",
    "version": 3
   },
   "file_extension": ".py",
   "mimetype": "text/x-python",
   "name": "python",
   "nbconvert_exporter": "python",
   "pygments_lexer": "ipython3",
   "version": "3.9.18"
  }
 },
 "nbformat": 4,
 "nbformat_minor": 5
}
